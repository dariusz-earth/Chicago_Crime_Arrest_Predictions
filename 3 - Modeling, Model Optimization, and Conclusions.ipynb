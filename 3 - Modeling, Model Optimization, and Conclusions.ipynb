{
 "cells": [
  {
   "cell_type": "markdown",
   "id": "f6b9e0bb",
   "metadata": {},
   "source": [
    "# CAPSTONE: Chicago Crime Stats Model Optimization\n",
    "\n",
    "**Author: Darius Smith**\n",
    "\n",
    "**BrainStation | Data Science | April 11, 2023**"
   ]
  },
  {
   "cell_type": "markdown",
   "id": "610698e6",
   "metadata": {},
   "source": [
    "## Table of Contents\n",
    "\n",
    "[Features and Target](#Features-and-Target)\n",
    "\n",
    "[Exploratory Data Analysis Summary](#Exploratory-Data-Analysis-Summary)\n",
    "\n",
    "[Preprocessing the Data](#Preprocessing-the-Data)\n",
    "\n",
    "[Fitting Using Machine Learning Classifiers: Logistic Regression](#Fitting-Using-Machine-Learning-Classifiers:-Logistic-Regression)\n",
    "\n",
    "\n",
    "[Decision Tree](#Decision-Tree)\n",
    "\n",
    "[Conclusion](#Conclusion)"
   ]
  },
  {
   "cell_type": "markdown",
   "id": "e5d901b6",
   "metadata": {},
   "source": [
    "This notebook is the last notebook within the **\"Chicago Crime Stats\"** capstone project. This is notebook (3) of (3). In the **\"Chicago Crime Stats Modeling Preparation\"** notebook, work was done to convert non-numerical columns to numerical for modeling. From there, there was an intial exploration to the problem statement to be more predictive in nature. The question was: \n",
    "\n",
    ">**“Using machine learning, how may we predict how 'Arrests' change with respect to Ward, Community Area, and other associated features so that we can make communities in Chicago safer for everyone?”**\n",
    "\n",
    "Two baseline logistic regression models were conducted. Both models had an accuracy rate of ~80%. The purpose of this notebook, will be to optimize the model using machine learning classifiers. The idea is to see which of these will result in the best predictive model for classifying whether **an 'Arrest' will be in the city of Chicago.**\n",
    "\n",
    "The following models will be used: \n",
    "\n",
    "1. Logistic Regression\n",
    "2. Decision Tree\n",
    "\n",
    "\n",
    "For every sklearn classifier we will carry out the three required steps to fit the model to the data.\n",
    "\n",
    "These are: \n",
    "\n",
    "- Instantiating the model\n",
    "- Fitting the model to the training data\n",
    "- Evaluate the model's performance on new (test) data.\n",
    "- Using `.score()` and evaluating the models based on their accuracy metric."
   ]
  },
  {
   "cell_type": "code",
   "execution_count": 1,
   "id": "d8848842",
   "metadata": {},
   "outputs": [],
   "source": [
    "#Importing all the necessary libraries \n",
    "import numpy as np \n",
    "import pandas as pd \n",
    "import matplotlib.pyplot as plt \n",
    "%matplotlib inline\n",
    "import seaborn as sns\n",
    "\n",
    "#Splitting data\n",
    "from sklearn.model_selection import train_test_split \n",
    "\n",
    "#The scalers\n",
    "from sklearn.preprocessing import StandardScaler, MinMaxScaler\n",
    "\n",
    "#The classifiers  \n",
    "from sklearn.linear_model import LogisticRegression\n",
    "from sklearn.tree import DecisionTreeClassifier\n",
    "\n",
    "#Time stamp for timing runtime of models\n",
    "import time"
   ]
  },
  {
   "cell_type": "markdown",
   "id": "204e6d03",
   "metadata": {},
   "source": [
    "I will begin by reading in, and inspecting the data."
   ]
  },
  {
   "cell_type": "code",
   "execution_count": 2,
   "id": "d0f59689",
   "metadata": {},
   "outputs": [
    {
     "data": {
      "text/html": [
       "<div>\n",
       "<style scoped>\n",
       "    .dataframe tbody tr th:only-of-type {\n",
       "        vertical-align: middle;\n",
       "    }\n",
       "\n",
       "    .dataframe tbody tr th {\n",
       "        vertical-align: top;\n",
       "    }\n",
       "\n",
       "    .dataframe thead th {\n",
       "        text-align: right;\n",
       "    }\n",
       "</style>\n",
       "<table border=\"1\" class=\"dataframe\">\n",
       "  <thead>\n",
       "    <tr style=\"text-align: right;\">\n",
       "      <th></th>\n",
       "      <th>Arrest</th>\n",
       "      <th>Domestic</th>\n",
       "      <th>Beat</th>\n",
       "      <th>District</th>\n",
       "      <th>Ward</th>\n",
       "      <th>Community Area</th>\n",
       "      <th>X Coordinate</th>\n",
       "      <th>Y Coordinate</th>\n",
       "      <th>Year</th>\n",
       "      <th>Latitude</th>\n",
       "      <th>Longitude</th>\n",
       "      <th>Month</th>\n",
       "      <th>Day</th>\n",
       "      <th>Week</th>\n",
       "      <th>Day of Week</th>\n",
       "      <th>Hour</th>\n",
       "    </tr>\n",
       "  </thead>\n",
       "  <tbody>\n",
       "    <tr>\n",
       "      <th>0</th>\n",
       "      <td>0</td>\n",
       "      <td>0</td>\n",
       "      <td>132</td>\n",
       "      <td>1</td>\n",
       "      <td>3</td>\n",
       "      <td>33</td>\n",
       "      <td>1177560.0</td>\n",
       "      <td>1889548.0</td>\n",
       "      <td>2019</td>\n",
       "      <td>41.852248</td>\n",
       "      <td>-87.623786</td>\n",
       "      <td>9</td>\n",
       "      <td>24</td>\n",
       "      <td>39</td>\n",
       "      <td>1</td>\n",
       "      <td>8</td>\n",
       "    </tr>\n",
       "    <tr>\n",
       "      <th>1</th>\n",
       "      <td>0</td>\n",
       "      <td>0</td>\n",
       "      <td>1221</td>\n",
       "      <td>12</td>\n",
       "      <td>26</td>\n",
       "      <td>24</td>\n",
       "      <td>1160005.0</td>\n",
       "      <td>1905256.0</td>\n",
       "      <td>2019</td>\n",
       "      <td>41.895732</td>\n",
       "      <td>-87.687784</td>\n",
       "      <td>10</td>\n",
       "      <td>13</td>\n",
       "      <td>41</td>\n",
       "      <td>6</td>\n",
       "      <td>20</td>\n",
       "    </tr>\n",
       "    <tr>\n",
       "      <th>2</th>\n",
       "      <td>0</td>\n",
       "      <td>0</td>\n",
       "      <td>1224</td>\n",
       "      <td>12</td>\n",
       "      <td>27</td>\n",
       "      <td>28</td>\n",
       "      <td>1166986.0</td>\n",
       "      <td>1900306.0</td>\n",
       "      <td>2019</td>\n",
       "      <td>41.882002</td>\n",
       "      <td>-87.662287</td>\n",
       "      <td>10</td>\n",
       "      <td>5</td>\n",
       "      <td>40</td>\n",
       "      <td>5</td>\n",
       "      <td>18</td>\n",
       "    </tr>\n",
       "    <tr>\n",
       "      <th>3</th>\n",
       "      <td>0</td>\n",
       "      <td>0</td>\n",
       "      <td>1922</td>\n",
       "      <td>19</td>\n",
       "      <td>47</td>\n",
       "      <td>6</td>\n",
       "      <td>1164930.0</td>\n",
       "      <td>1923972.0</td>\n",
       "      <td>2019</td>\n",
       "      <td>41.946987</td>\n",
       "      <td>-87.669164</td>\n",
       "      <td>10</td>\n",
       "      <td>13</td>\n",
       "      <td>41</td>\n",
       "      <td>6</td>\n",
       "      <td>19</td>\n",
       "    </tr>\n",
       "    <tr>\n",
       "      <th>4</th>\n",
       "      <td>0</td>\n",
       "      <td>0</td>\n",
       "      <td>2033</td>\n",
       "      <td>20</td>\n",
       "      <td>47</td>\n",
       "      <td>3</td>\n",
       "      <td>1167380.0</td>\n",
       "      <td>1934505.0</td>\n",
       "      <td>2019</td>\n",
       "      <td>41.975838</td>\n",
       "      <td>-87.659854</td>\n",
       "      <td>10</td>\n",
       "      <td>13</td>\n",
       "      <td>41</td>\n",
       "      <td>6</td>\n",
       "      <td>14</td>\n",
       "    </tr>\n",
       "  </tbody>\n",
       "</table>\n",
       "</div>"
      ],
      "text/plain": [
       "   Arrest  Domestic  Beat  District  Ward  Community Area  X Coordinate  \\\n",
       "0       0         0   132         1     3              33     1177560.0   \n",
       "1       0         0  1221        12    26              24     1160005.0   \n",
       "2       0         0  1224        12    27              28     1166986.0   \n",
       "3       0         0  1922        19    47               6     1164930.0   \n",
       "4       0         0  2033        20    47               3     1167380.0   \n",
       "\n",
       "   Y Coordinate  Year   Latitude  Longitude  Month  Day  Week  Day of Week  \\\n",
       "0     1889548.0  2019  41.852248 -87.623786      9   24    39            1   \n",
       "1     1905256.0  2019  41.895732 -87.687784     10   13    41            6   \n",
       "2     1900306.0  2019  41.882002 -87.662287     10    5    40            5   \n",
       "3     1923972.0  2019  41.946987 -87.669164     10   13    41            6   \n",
       "4     1934505.0  2019  41.975838 -87.659854     10   13    41            6   \n",
       "\n",
       "   Hour  \n",
       "0     8  \n",
       "1    20  \n",
       "2    18  \n",
       "3    19  \n",
       "4    14  "
      ]
     },
     "execution_count": 2,
     "metadata": {},
     "output_type": "execute_result"
    }
   ],
   "source": [
    "#Loading in data\n",
    "clean_df = pd.read_csv('crime_clean_data.csv')\n",
    "\n",
    "#Inspect the data\n",
    "clean_df.head()"
   ]
  },
  {
   "cell_type": "code",
   "execution_count": 3,
   "id": "2d2bdf26",
   "metadata": {},
   "outputs": [
    {
     "name": "stdout",
     "output_type": "stream",
     "text": [
      "<class 'pandas.core.frame.DataFrame'>\n",
      "RangeIndex: 1054833 entries, 0 to 1054832\n",
      "Data columns (total 16 columns):\n",
      " #   Column          Non-Null Count    Dtype  \n",
      "---  ------          --------------    -----  \n",
      " 0   Arrest          1054833 non-null  int64  \n",
      " 1   Domestic        1054833 non-null  int64  \n",
      " 2   Beat            1054833 non-null  int64  \n",
      " 3   District        1054833 non-null  int64  \n",
      " 4   Ward            1054833 non-null  int64  \n",
      " 5   Community Area  1054833 non-null  int64  \n",
      " 6   X Coordinate    1054833 non-null  float64\n",
      " 7   Y Coordinate    1054833 non-null  float64\n",
      " 8   Year            1054833 non-null  int64  \n",
      " 9   Latitude        1054833 non-null  float64\n",
      " 10  Longitude       1054833 non-null  float64\n",
      " 11  Month           1054833 non-null  int64  \n",
      " 12  Day             1054833 non-null  int64  \n",
      " 13  Week            1054833 non-null  int64  \n",
      " 14  Day of Week     1054833 non-null  int64  \n",
      " 15  Hour            1054833 non-null  int64  \n",
      "dtypes: float64(4), int64(12)\n",
      "memory usage: 128.8 MB\n"
     ]
    }
   ],
   "source": [
    "clean_df.info()"
   ]
  },
  {
   "cell_type": "markdown",
   "id": "5f7efb60",
   "metadata": {},
   "source": [
    "**X coordinate and Y Coordinate have the same values as Latitude and Longitude. I will drop these before proceeding with model optimization.** "
   ]
  },
  {
   "cell_type": "code",
   "execution_count": 4,
   "id": "19987f53",
   "metadata": {},
   "outputs": [],
   "source": [
    "clean_df.drop(columns=['Latitude', 'Longitude'], axis=1, inplace=True)"
   ]
  },
  {
   "cell_type": "markdown",
   "id": "2b34122f",
   "metadata": {},
   "source": [
    "## Features & Target\n",
    "\n",
    "Listed below are the features as well as the target for modeling. \n",
    "\n",
    "**Features:**\n",
    "\n",
    "- *Domestic*: Describes if an crime incident was Domestic or not. \n",
    "- *Beat*: The smallest geographic area - each beat has a dedicated police beat car     \n",
    "- *District*: Indicates the police district where the incident occured.   \n",
    "- *Ward*: The ward (City Council district) where the incident occured.   \n",
    "- *Community Area*: Indicates the community area where the incident occured. \n",
    "- *Year*: Year the incident occured.\n",
    "- *Latitude*: The latitude of the location where the incident occured.\n",
    "- *Longitude*: The longitude of the location where the incident occured.\n",
    "- *Month*: Month incident occured.(1-12)(January-December)\n",
    "- *Day*: Day incident occured. (1-30 or 1-31 depending on the month).\n",
    "- *Week*: Week incident occured. (1-52)\n",
    "- *Day of Week*: Day of the week incident occured. (0 - 6)(Monday - Sunday)\n",
    "- *Hour*: Hour incident occured. (0 - 23; military time)\n",
    "\n",
    "\n",
    "**Target:**\n",
    "\n",
    "- *Arrest*: Describes if an arrest was made based on incident. (1 or 0)."
   ]
  },
  {
   "cell_type": "markdown",
   "id": "f9765479",
   "metadata": {},
   "source": [
    "## Exploratory Data Analysis Summary\n",
    "\n",
    "Generating an EDA summary. It is always best practice to make sure the data has been cleaned."
   ]
  },
  {
   "cell_type": "code",
   "execution_count": 5,
   "id": "733384b2",
   "metadata": {},
   "outputs": [
    {
     "name": "stdout",
     "output_type": "stream",
     "text": [
      "Rows: 1054833\n",
      "Columns: 14\n",
      "Missing values: 0\n",
      "Duplicated rows: 11491\n"
     ]
    }
   ],
   "source": [
    "#Generating an EDA summary\n",
    "print(f\"Rows: {clean_df.shape[0]}\")\n",
    "print(f\"Columns: {clean_df.shape[1]}\")\n",
    "print(f\"Missing values: {clean_df.isna().sum().sum()}\")\n",
    "print(f\"Duplicated rows: {clean_df.duplicated().sum()}\")"
   ]
  },
  {
   "cell_type": "markdown",
   "id": "604bc95c",
   "metadata": {},
   "source": [
    "There are 11,491 duplicated rows. I will drop these before proceeding with modeling. "
   ]
  },
  {
   "cell_type": "code",
   "execution_count": 6,
   "id": "6d6d4985",
   "metadata": {},
   "outputs": [],
   "source": [
    "#Removing duplicates from the rows.\n",
    "clean_df.drop_duplicates(inplace=True)"
   ]
  },
  {
   "cell_type": "code",
   "execution_count": 7,
   "id": "81edcd05",
   "metadata": {},
   "outputs": [
    {
     "name": "stdout",
     "output_type": "stream",
     "text": [
      "Rows: 1043342\n",
      "Columns: 14\n",
      "Missing values: 0\n",
      "Duplicated rows: 0\n"
     ]
    }
   ],
   "source": [
    "#Re-generating an EDA summary\n",
    "print(f\"Rows: {clean_df.shape[0]}\")\n",
    "print(f\"Columns: {clean_df.shape[1]}\")\n",
    "print(f\"Missing values: {clean_df.isna().sum().sum()}\")\n",
    "print(f\"Duplicated rows: {clean_df.duplicated().sum()}\")"
   ]
  },
  {
   "cell_type": "markdown",
   "id": "2246013b",
   "metadata": {},
   "source": [
    "Duplicated rows have been taken care, now moving forward with fitting scaled data using (2) different scalers to the (3) model types listed in the beginning of the notebook. "
   ]
  },
  {
   "cell_type": "markdown",
   "id": "4b375928",
   "metadata": {},
   "source": [
    "## Preprocessing the Data"
   ]
  },
  {
   "cell_type": "code",
   "execution_count": 8,
   "id": "c18f9067",
   "metadata": {},
   "outputs": [
    {
     "data": {
      "text/html": [
       "<div>\n",
       "<style scoped>\n",
       "    .dataframe tbody tr th:only-of-type {\n",
       "        vertical-align: middle;\n",
       "    }\n",
       "\n",
       "    .dataframe tbody tr th {\n",
       "        vertical-align: top;\n",
       "    }\n",
       "\n",
       "    .dataframe thead th {\n",
       "        text-align: right;\n",
       "    }\n",
       "</style>\n",
       "<table border=\"1\" class=\"dataframe\">\n",
       "  <thead>\n",
       "    <tr style=\"text-align: right;\">\n",
       "      <th></th>\n",
       "      <th>Domestic</th>\n",
       "      <th>Beat</th>\n",
       "      <th>District</th>\n",
       "      <th>Ward</th>\n",
       "      <th>Community Area</th>\n",
       "      <th>X Coordinate</th>\n",
       "      <th>Y Coordinate</th>\n",
       "      <th>Year</th>\n",
       "      <th>Month</th>\n",
       "      <th>Day</th>\n",
       "      <th>Week</th>\n",
       "      <th>Day of Week</th>\n",
       "      <th>Hour</th>\n",
       "    </tr>\n",
       "  </thead>\n",
       "  <tbody>\n",
       "    <tr>\n",
       "      <th>0</th>\n",
       "      <td>0</td>\n",
       "      <td>132</td>\n",
       "      <td>1</td>\n",
       "      <td>3</td>\n",
       "      <td>33</td>\n",
       "      <td>1177560.0</td>\n",
       "      <td>1889548.0</td>\n",
       "      <td>2019</td>\n",
       "      <td>9</td>\n",
       "      <td>24</td>\n",
       "      <td>39</td>\n",
       "      <td>1</td>\n",
       "      <td>8</td>\n",
       "    </tr>\n",
       "    <tr>\n",
       "      <th>1</th>\n",
       "      <td>0</td>\n",
       "      <td>1221</td>\n",
       "      <td>12</td>\n",
       "      <td>26</td>\n",
       "      <td>24</td>\n",
       "      <td>1160005.0</td>\n",
       "      <td>1905256.0</td>\n",
       "      <td>2019</td>\n",
       "      <td>10</td>\n",
       "      <td>13</td>\n",
       "      <td>41</td>\n",
       "      <td>6</td>\n",
       "      <td>20</td>\n",
       "    </tr>\n",
       "    <tr>\n",
       "      <th>2</th>\n",
       "      <td>0</td>\n",
       "      <td>1224</td>\n",
       "      <td>12</td>\n",
       "      <td>27</td>\n",
       "      <td>28</td>\n",
       "      <td>1166986.0</td>\n",
       "      <td>1900306.0</td>\n",
       "      <td>2019</td>\n",
       "      <td>10</td>\n",
       "      <td>5</td>\n",
       "      <td>40</td>\n",
       "      <td>5</td>\n",
       "      <td>18</td>\n",
       "    </tr>\n",
       "    <tr>\n",
       "      <th>3</th>\n",
       "      <td>0</td>\n",
       "      <td>1922</td>\n",
       "      <td>19</td>\n",
       "      <td>47</td>\n",
       "      <td>6</td>\n",
       "      <td>1164930.0</td>\n",
       "      <td>1923972.0</td>\n",
       "      <td>2019</td>\n",
       "      <td>10</td>\n",
       "      <td>13</td>\n",
       "      <td>41</td>\n",
       "      <td>6</td>\n",
       "      <td>19</td>\n",
       "    </tr>\n",
       "    <tr>\n",
       "      <th>4</th>\n",
       "      <td>0</td>\n",
       "      <td>2033</td>\n",
       "      <td>20</td>\n",
       "      <td>47</td>\n",
       "      <td>3</td>\n",
       "      <td>1167380.0</td>\n",
       "      <td>1934505.0</td>\n",
       "      <td>2019</td>\n",
       "      <td>10</td>\n",
       "      <td>13</td>\n",
       "      <td>41</td>\n",
       "      <td>6</td>\n",
       "      <td>14</td>\n",
       "    </tr>\n",
       "    <tr>\n",
       "      <th>...</th>\n",
       "      <td>...</td>\n",
       "      <td>...</td>\n",
       "      <td>...</td>\n",
       "      <td>...</td>\n",
       "      <td>...</td>\n",
       "      <td>...</td>\n",
       "      <td>...</td>\n",
       "      <td>...</td>\n",
       "      <td>...</td>\n",
       "      <td>...</td>\n",
       "      <td>...</td>\n",
       "      <td>...</td>\n",
       "      <td>...</td>\n",
       "    </tr>\n",
       "    <tr>\n",
       "      <th>1054828</th>\n",
       "      <td>1</td>\n",
       "      <td>2525</td>\n",
       "      <td>25</td>\n",
       "      <td>35</td>\n",
       "      <td>22</td>\n",
       "      <td>1149786.0</td>\n",
       "      <td>1909259.0</td>\n",
       "      <td>2017</td>\n",
       "      <td>10</td>\n",
       "      <td>21</td>\n",
       "      <td>42</td>\n",
       "      <td>5</td>\n",
       "      <td>11</td>\n",
       "    </tr>\n",
       "    <tr>\n",
       "      <th>1054829</th>\n",
       "      <td>1</td>\n",
       "      <td>2515</td>\n",
       "      <td>25</td>\n",
       "      <td>36</td>\n",
       "      <td>19</td>\n",
       "      <td>1141037.0</td>\n",
       "      <td>1913776.0</td>\n",
       "      <td>2019</td>\n",
       "      <td>6</td>\n",
       "      <td>2</td>\n",
       "      <td>22</td>\n",
       "      <td>6</td>\n",
       "      <td>9</td>\n",
       "    </tr>\n",
       "    <tr>\n",
       "      <th>1054830</th>\n",
       "      <td>0</td>\n",
       "      <td>922</td>\n",
       "      <td>9</td>\n",
       "      <td>15</td>\n",
       "      <td>58</td>\n",
       "      <td>1158774.0</td>\n",
       "      <td>1875140.0</td>\n",
       "      <td>2017</td>\n",
       "      <td>9</td>\n",
       "      <td>5</td>\n",
       "      <td>36</td>\n",
       "      <td>1</td>\n",
       "      <td>9</td>\n",
       "    </tr>\n",
       "    <tr>\n",
       "      <th>1054831</th>\n",
       "      <td>1</td>\n",
       "      <td>2012</td>\n",
       "      <td>24</td>\n",
       "      <td>40</td>\n",
       "      <td>77</td>\n",
       "      <td>1164423.0</td>\n",
       "      <td>1943606.0</td>\n",
       "      <td>2017</td>\n",
       "      <td>1</td>\n",
       "      <td>1</td>\n",
       "      <td>52</td>\n",
       "      <td>6</td>\n",
       "      <td>0</td>\n",
       "    </tr>\n",
       "    <tr>\n",
       "      <th>1054832</th>\n",
       "      <td>1</td>\n",
       "      <td>932</td>\n",
       "      <td>9</td>\n",
       "      <td>16</td>\n",
       "      <td>61</td>\n",
       "      <td>1163615.0</td>\n",
       "      <td>1868644.0</td>\n",
       "      <td>2019</td>\n",
       "      <td>5</td>\n",
       "      <td>12</td>\n",
       "      <td>19</td>\n",
       "      <td>6</td>\n",
       "      <td>14</td>\n",
       "    </tr>\n",
       "  </tbody>\n",
       "</table>\n",
       "<p>1043342 rows × 13 columns</p>\n",
       "</div>"
      ],
      "text/plain": [
       "         Domestic  Beat  District  Ward  Community Area  X Coordinate  \\\n",
       "0               0   132         1     3              33     1177560.0   \n",
       "1               0  1221        12    26              24     1160005.0   \n",
       "2               0  1224        12    27              28     1166986.0   \n",
       "3               0  1922        19    47               6     1164930.0   \n",
       "4               0  2033        20    47               3     1167380.0   \n",
       "...           ...   ...       ...   ...             ...           ...   \n",
       "1054828         1  2525        25    35              22     1149786.0   \n",
       "1054829         1  2515        25    36              19     1141037.0   \n",
       "1054830         0   922         9    15              58     1158774.0   \n",
       "1054831         1  2012        24    40              77     1164423.0   \n",
       "1054832         1   932         9    16              61     1163615.0   \n",
       "\n",
       "         Y Coordinate  Year  Month  Day  Week  Day of Week  Hour  \n",
       "0           1889548.0  2019      9   24    39            1     8  \n",
       "1           1905256.0  2019     10   13    41            6    20  \n",
       "2           1900306.0  2019     10    5    40            5    18  \n",
       "3           1923972.0  2019     10   13    41            6    19  \n",
       "4           1934505.0  2019     10   13    41            6    14  \n",
       "...               ...   ...    ...  ...   ...          ...   ...  \n",
       "1054828     1909259.0  2017     10   21    42            5    11  \n",
       "1054829     1913776.0  2019      6    2    22            6     9  \n",
       "1054830     1875140.0  2017      9    5    36            1     9  \n",
       "1054831     1943606.0  2017      1    1    52            6     0  \n",
       "1054832     1868644.0  2019      5   12    19            6    14  \n",
       "\n",
       "[1043342 rows x 13 columns]"
      ]
     },
     "metadata": {},
     "output_type": "display_data"
    },
    {
     "name": "stdout",
     "output_type": "stream",
     "text": [
      "0          0\n",
      "1          0\n",
      "2          0\n",
      "3          0\n",
      "4          0\n",
      "          ..\n",
      "1054828    1\n",
      "1054829    0\n",
      "1054830    0\n",
      "1054831    0\n",
      "1054832    0\n",
      "Name: Arrest, Length: 1043342, dtype: int64\n"
     ]
    }
   ],
   "source": [
    "#Assigning features to X \n",
    "X = clean_df.drop(['Arrest'], axis=1)\n",
    "\n",
    "#Assigning target to y \n",
    "y = clean_df['Arrest']\n",
    "\n",
    "#Checking the results \n",
    "display(X)\n",
    "print(y)"
   ]
  },
  {
   "cell_type": "code",
   "execution_count": 9,
   "id": "009fc01d",
   "metadata": {},
   "outputs": [
    {
     "name": "stdout",
     "output_type": "stream",
     "text": [
      "(730339, 13) (313003, 13) (730339,) (313003,)\n"
     ]
    }
   ],
   "source": [
    "#Splitting the data\n",
    "\n",
    "X_train, X_test, y_train, y_test = train_test_split(X, y, \n",
    "                                                    test_size=0.3, \n",
    "                                                    random_state=42,\n",
    "                                                    stratify=y)\n",
    "\n",
    "#Checking the results \n",
    "print(X_train.shape, X_test.shape, y_train.shape, y_test.shape)"
   ]
  },
  {
   "cell_type": "markdown",
   "id": "f01984b6",
   "metadata": {},
   "source": [
    "Now that we have the `X_train` and `X_test`, I will transform the transform them with (**2**) different scalers. "
   ]
  },
  {
   "cell_type": "markdown",
   "id": "e6cf478f",
   "metadata": {},
   "source": [
    "### MinMax Scaler"
   ]
  },
  {
   "cell_type": "code",
   "execution_count": 10,
   "id": "4d0f851b",
   "metadata": {},
   "outputs": [],
   "source": [
    "# Instantiate the scaler\n",
    "MM = MinMaxScaler()\n",
    "\n",
    "# Fit the scaler and transform both data subsets\n",
    "# we can fit and transform 'X_train' in the same step\n",
    "X_train_mm = MM.fit_transform(X_train)\n",
    "X_test_mm = MM.transform(X_test)"
   ]
  },
  {
   "cell_type": "markdown",
   "id": "f096b90a",
   "metadata": {},
   "source": [
    "### Standard Scaler"
   ]
  },
  {
   "cell_type": "code",
   "execution_count": 11,
   "id": "5b690671",
   "metadata": {},
   "outputs": [],
   "source": [
    "# Instantiate the scaler\n",
    "SS = StandardScaler()\n",
    "\n",
    "# Fit the scaler and transform both data subsets\n",
    "X_train_ss = SS.fit_transform(X_train)\n",
    "X_test_ss = SS.transform(X_test)"
   ]
  },
  {
   "cell_type": "markdown",
   "id": "f3e0daa9",
   "metadata": {},
   "source": [
    "## Fitting Using Machine Learning Classifiers: Logistic Regression\n",
    "\n",
    "I will start with the `LogisticRegression()` by using solver = `lbfgs` first, using a confusion matrix for interpretability, precison and recall, and then a classification report for interpretability. I will then try out different C values. This will also include using the Ridge Regression ( `penalty=\"l2\"` ).\n",
    "\n",
    "**The smaller the `C`, the greater the penalization** (where the penalty is used to reduce overfitting of the model to the training data). Trying out different C values and checking the model's accuracy scores, allows us to find the best spot for our model. "
   ]
  },
  {
   "cell_type": "code",
   "execution_count": 12,
   "id": "7b9fbf07",
   "metadata": {},
   "outputs": [],
   "source": [
    "from sklearn.linear_model import LogisticRegression\n",
    "\n",
    "#Instantiating the model model\n",
    "arrest_logit = LogisticRegression(solver='lbfgs', random_state=42, max_iter=10000)\n",
    "\n",
    "#Fitting the model\n",
    "arrest_logit.fit(X_train, y_train);"
   ]
  },
  {
   "cell_type": "code",
   "execution_count": 13,
   "id": "5a32e4c3",
   "metadata": {},
   "outputs": [
    {
     "name": "stdout",
     "output_type": "stream",
     "text": [
      "Score on train: 0.796771088494521\n",
      "Score on test: 0.7967719159241285\n"
     ]
    }
   ],
   "source": [
    "print(f'Score on train: {arrest_logit.score(X_train, y_train)}')\n",
    "print(f'Score on test: {arrest_logit.score(X_test, y_test)}')"
   ]
  },
  {
   "cell_type": "markdown",
   "id": "905f6234",
   "metadata": {},
   "source": [
    "I got roughly ~80% accuracy on both the train and test set. This is similar to what I got on baseline models. The next step will be to produce a confusion matrix. This will allow me to dive deeper into my results. In binary classification, there are four possible outcomes to making a prediction:\n",
    "\n",
    "1. **True Positive (TP)**: Correctly predict that $x$ belongs to class 1/positive class\n",
    "2. **False Positive (FP)**: Incorrectly predict that $x$  belongs to class 1/positive class\n",
    "3. **True Negative (TN)**: Correctly predict $x$'s membership in class 0/negative class \n",
    "4. **False Negative (FN)**: Incorrectly predict $x$'s membership in class 0/negative class"
   ]
  },
  {
   "cell_type": "code",
   "execution_count": 15,
   "id": "8ac9737b",
   "metadata": {},
   "outputs": [
    {
     "data": {
      "text/html": [
       "<div>\n",
       "<style scoped>\n",
       "    .dataframe tbody tr th:only-of-type {\n",
       "        vertical-align: middle;\n",
       "    }\n",
       "\n",
       "    .dataframe tbody tr th {\n",
       "        vertical-align: top;\n",
       "    }\n",
       "\n",
       "    .dataframe thead th {\n",
       "        text-align: right;\n",
       "    }\n",
       "</style>\n",
       "<table border=\"1\" class=\"dataframe\">\n",
       "  <thead>\n",
       "    <tr style=\"text-align: right;\">\n",
       "      <th></th>\n",
       "      <th>Predicted Non-Arrest</th>\n",
       "      <th>Predicted Arrest</th>\n",
       "    </tr>\n",
       "  </thead>\n",
       "  <tbody>\n",
       "    <tr>\n",
       "      <th>True Non-Arrest</th>\n",
       "      <td>249392</td>\n",
       "      <td>0</td>\n",
       "    </tr>\n",
       "    <tr>\n",
       "      <th>True Arrest</th>\n",
       "      <td>63611</td>\n",
       "      <td>0</td>\n",
       "    </tr>\n",
       "  </tbody>\n",
       "</table>\n",
       "</div>"
      ],
      "text/plain": [
       "                 Predicted Non-Arrest  Predicted Arrest\n",
       "True Non-Arrest                249392                 0\n",
       "True Arrest                     63611                 0"
      ]
     },
     "metadata": {},
     "output_type": "display_data"
    }
   ],
   "source": [
    "from sklearn.metrics import confusion_matrix, ConfusionMatrixDisplay\n",
    "\n",
    "# Get class predictions\n",
    "y_pred = arrest_logit.predict(X_test)\n",
    "\n",
    "# Generate confusion matrix\n",
    "ar_matrix = confusion_matrix(y_test, y_pred)\n",
    "\n",
    "# label rows and columns\n",
    "ar_df = pd.DataFrame(\n",
    "    ar_matrix, \n",
    "    columns=[\"Predicted Non-Arrest\", \"Predicted Arrest\"],\n",
    "    index=[\"True Non-Arrest\", \"True Arrest\"]\n",
    ")\n",
    "\n",
    "display(ar_df)"
   ]
  },
  {
   "cell_type": "code",
   "execution_count": 16,
   "id": "cf4a3b8c",
   "metadata": {},
   "outputs": [
    {
     "data": {
      "image/png": "[encoded data removed]",
      "text/plain": [
       "<Figure size 640x480 with 2 Axes>"
      ]
     },
     "metadata": {},
     "output_type": "display_data"
    }
   ],
   "source": [
    "#The function expects the estimator, inputs and target as parameters\n",
    "ConfusionMatrixDisplay.from_estimator(arrest_logit, X_test, y_test);"
   ]
  },
  {
   "cell_type": "markdown",
   "id": "72466527",
   "metadata": {},
   "source": [
    "Now, I will interpret these results and what they mean. "
   ]
  },
  {
   "cell_type": "code",
   "execution_count": 17,
   "id": "67d2b1ea",
   "metadata": {},
   "outputs": [
    {
     "name": "stdout",
     "output_type": "stream",
     "text": [
      "0 legitimate arrests were misclassified as non-arrests.\n"
     ]
    }
   ],
   "source": [
    "#Select the FP from the confusion matrix\n",
    "#True label 0 & predicted label 1\n",
    "fp = ar_matrix[0, 1]\n",
    "\n",
    "print(f\"{fp} legitimate arrests were misclassified as non-arrests.\")"
   ]
  },
  {
   "cell_type": "code",
   "execution_count": 39,
   "id": "a7ec342e",
   "metadata": {},
   "outputs": [
    {
     "name": "stdout",
     "output_type": "stream",
     "text": [
      "0 non-arrests arrests were predicted correctly by the model out of 63611 frauds.\n"
     ]
    }
   ],
   "source": [
    "#Select the TP from the confusion matrix\n",
    "#True label 1 & predicted label 1\n",
    "tp = ar_matrix[1, 1]\n",
    "\n",
    "# total number of true label 1\n",
    "num_frauds = ar_matrix[1, :].sum()\n",
    "\n",
    "print(f\"{tp} non-arrests arrests were predicted correctly by the model out of {num_frauds} frauds.\")"
   ]
  },
  {
   "cell_type": "markdown",
   "id": "1094e385",
   "metadata": {},
   "source": [
    "## Precision and Recall"
   ]
  },
  {
   "cell_type": "markdown",
   "id": "cc641189",
   "metadata": {},
   "source": [
    "Because of the fact that accuracy alone can be misleading depending on the class balance of the data, alternative metrics consider the relative proportions of correct and incorrect classifications in both the positive and negative classes. I will be using a precision and recall to choose the correct metric for our model which can actually increase its predictive power and give a great competitive advantage."
   ]
  },
  {
   "cell_type": "code",
   "execution_count": 20,
   "id": "47157c44",
   "metadata": {},
   "outputs": [
    {
     "data": {
      "text/html": [
       "<div>\n",
       "<style scoped>\n",
       "    .dataframe tbody tr th:only-of-type {\n",
       "        vertical-align: middle;\n",
       "    }\n",
       "\n",
       "    .dataframe tbody tr th {\n",
       "        vertical-align: top;\n",
       "    }\n",
       "\n",
       "    .dataframe thead th {\n",
       "        text-align: right;\n",
       "    }\n",
       "</style>\n",
       "<table border=\"1\" class=\"dataframe\">\n",
       "  <thead>\n",
       "    <tr style=\"text-align: right;\">\n",
       "      <th></th>\n",
       "      <th>Predicted Non-Arrest</th>\n",
       "      <th>Predicted Arrest</th>\n",
       "    </tr>\n",
       "  </thead>\n",
       "  <tbody>\n",
       "    <tr>\n",
       "      <th>True Non-Arrest</th>\n",
       "      <td>249392</td>\n",
       "      <td>0</td>\n",
       "    </tr>\n",
       "    <tr>\n",
       "      <th>True Arrest</th>\n",
       "      <td>63611</td>\n",
       "      <td>0</td>\n",
       "    </tr>\n",
       "  </tbody>\n",
       "</table>\n",
       "</div>"
      ],
      "text/plain": [
       "                 Predicted Non-Arrest  Predicted Arrest\n",
       "True Non-Arrest                249392                 0\n",
       "True Arrest                     63611                 0"
      ]
     },
     "metadata": {},
     "output_type": "display_data"
    }
   ],
   "source": [
    "#Recalling the confusion matrix\n",
    "display(ar_df)"
   ]
  },
  {
   "cell_type": "markdown",
   "id": "99e85c88",
   "metadata": {},
   "source": [
    "I can calculate our precision and recall using the following formula:"
   ]
  },
  {
   "cell_type": "code",
   "execution_count": 22,
   "id": "eef34658",
   "metadata": {},
   "outputs": [
    {
     "name": "stdout",
     "output_type": "stream",
     "text": [
      "Precision = 0/0 = nan%\n"
     ]
    },
    {
     "name": "stderr",
     "output_type": "stream",
     "text": [
      "/var/folders/26/3jnnrvjs3534y_dh9pff888c0000gn/T/ipykernel_55481/481331226.py:4: RuntimeWarning: invalid value encountered in long_scalars\n",
      "  precision = tp/predicted_arrest\n"
     ]
    }
   ],
   "source": [
    "tp = ar_matrix[1, 1]\n",
    "predicted_arrest = ar_matrix[:, 1].sum()\n",
    "\n",
    "precision = tp/predicted_arrest\n",
    "\n",
    "print(f\"Precision = {tp}/{predicted_arrest} = {round(precision*100, 2)}%\")"
   ]
  },
  {
   "cell_type": "code",
   "execution_count": 23,
   "id": "02458a7c",
   "metadata": {},
   "outputs": [
    {
     "name": "stdout",
     "output_type": "stream",
     "text": [
      "Recall = 0/63611 = 0.0%\n"
     ]
    }
   ],
   "source": [
    "tp = ar_matrix[1, 1]\n",
    "true_arrest = ar_matrix[1, :].sum()\n",
    "\n",
    "recall = tp/true_arrest\n",
    "\n",
    "print(f\"Recall = {tp}/{true_arrest} = {round(recall*100, 2)}%\")"
   ]
  },
  {
   "cell_type": "markdown",
   "id": "40fcc3bf",
   "metadata": {},
   "source": [
    "**What does this mean?** \n",
    "\n",
    "Both the precision and the recall came back with 0. This means that classifier being used cannot predict any correct positive result."
   ]
  },
  {
   "cell_type": "code",
   "execution_count": 24,
   "id": "6d9936f3",
   "metadata": {},
   "outputs": [
    {
     "name": "stderr",
     "output_type": "stream",
     "text": [
      "/Users/ds/opt/anaconda3/envs/Brainstation/lib/python3.10/site-packages/sklearn/metrics/_classification.py:1344: UndefinedMetricWarning: Precision is ill-defined and being set to 0.0 due to no predicted samples. Use `zero_division` parameter to control this behavior.\n",
      "  _warn_prf(average, modifier, msg_start, len(result))\n"
     ]
    },
    {
     "data": {
      "text/plain": [
       "0.0"
      ]
     },
     "execution_count": 24,
     "metadata": {},
     "output_type": "execute_result"
    }
   ],
   "source": [
    "#Precision \n",
    "from sklearn.metrics import precision_score\n",
    "\n",
    "#precision_score(true labels, predicted labels)\n",
    "precision_score(y_test, y_pred)"
   ]
  },
  {
   "cell_type": "code",
   "execution_count": 25,
   "id": "dbca8c42",
   "metadata": {},
   "outputs": [
    {
     "data": {
      "text/plain": [
       "0.0"
      ]
     },
     "execution_count": 25,
     "metadata": {},
     "output_type": "execute_result"
    }
   ],
   "source": [
    "#Recall\n",
    "from sklearn.metrics import recall_score\n",
    "\n",
    "#recall_score(true labels, predicted labels)\n",
    "recall_score(y_test, y_pred)"
   ]
  },
  {
   "cell_type": "markdown",
   "id": "9bf62cf4",
   "metadata": {},
   "source": [
    "I will now calculate the F1 score of the data.\n",
    "\n",
    "The F1 score is the harmonic mean of the precision and recall scores.\n",
    "\n",
    "The F1 score is always between the precision and recall score.\n",
    "An F1 score reaches its best value at 1 which corresponds to both perfect precision and perfect recall.\n",
    "The worst F1 score is 0 which occurs if either precision or recall becomes zero; this is one advantage of using the harmonic mean over a simple average of precision and recall.\n",
    "We use the F1 score in order to try and maximize the precision and recall scores simultaneously\n",
    "\n",
    "I will now calculate the score. "
   ]
  },
  {
   "cell_type": "code",
   "execution_count": 26,
   "id": "eccbf8c2",
   "metadata": {},
   "outputs": [
    {
     "data": {
      "text/plain": [
       "0.0"
      ]
     },
     "execution_count": 26,
     "metadata": {},
     "output_type": "execute_result"
    }
   ],
   "source": [
    "from sklearn.metrics import f1_score\n",
    "\n",
    "f1_score(y_test, y_pred)"
   ]
  },
  {
   "cell_type": "markdown",
   "id": "d71403b1",
   "metadata": {},
   "source": [
    "The f1 score came back representing a model that is unable to classify any observation into the correct class. I will reproduce the precision, recall, and f1 using a classification report. "
   ]
  },
  {
   "cell_type": "code",
   "execution_count": 27,
   "id": "2ed1db90",
   "metadata": {},
   "outputs": [
    {
     "name": "stdout",
     "output_type": "stream",
     "text": [
      "              precision    recall  f1-score   support\n",
      "\n",
      "           0       0.80      1.00      0.89    249392\n",
      "           1       0.00      0.00      0.00     63611\n",
      "\n",
      "    accuracy                           0.80    313003\n",
      "   macro avg       0.40      0.50      0.44    313003\n",
      "weighted avg       0.63      0.80      0.71    313003\n",
      "\n"
     ]
    },
    {
     "name": "stderr",
     "output_type": "stream",
     "text": [
      "/Users/ds/opt/anaconda3/envs/Brainstation/lib/python3.10/site-packages/sklearn/metrics/_classification.py:1344: UndefinedMetricWarning: Precision and F-score are ill-defined and being set to 0.0 in labels with no predicted samples. Use `zero_division` parameter to control this behavior.\n",
      "  _warn_prf(average, modifier, msg_start, len(result))\n",
      "/Users/ds/opt/anaconda3/envs/Brainstation/lib/python3.10/site-packages/sklearn/metrics/_classification.py:1344: UndefinedMetricWarning: Precision and F-score are ill-defined and being set to 0.0 in labels with no predicted samples. Use `zero_division` parameter to control this behavior.\n",
      "  _warn_prf(average, modifier, msg_start, len(result))\n",
      "/Users/ds/opt/anaconda3/envs/Brainstation/lib/python3.10/site-packages/sklearn/metrics/_classification.py:1344: UndefinedMetricWarning: Precision and F-score are ill-defined and being set to 0.0 in labels with no predicted samples. Use `zero_division` parameter to control this behavior.\n",
      "  _warn_prf(average, modifier, msg_start, len(result))\n"
     ]
    }
   ],
   "source": [
    "from sklearn.metrics import classification_report\n",
    "\n",
    "report_initial = classification_report(y_test, y_pred)\n",
    "print(report_initial)"
   ]
  },
  {
   "cell_type": "markdown",
   "id": "c05f2ec8",
   "metadata": {},
   "source": [
    "Based on the above, we are not able to accurately predict an arrest given the features that are being using. I will next use C-Values from a logistic regression and a decision tree to try and optimize the model."
   ]
  },
  {
   "cell_type": "markdown",
   "id": "57530e02",
   "metadata": {},
   "source": [
    "### Logistic Regression - Fitting to Normalized and Standardized Data"
   ]
  },
  {
   "cell_type": "markdown",
   "id": "e24eb55d",
   "metadata": {},
   "source": [
    "Fitting to normalized data. "
   ]
  },
  {
   "cell_type": "code",
   "execution_count": 29,
   "id": "2b437514",
   "metadata": {},
   "outputs": [
    {
     "name": "stdout",
     "output_type": "stream",
     "text": [
      "Runtime: 18.6 seconds\n"
     ]
    }
   ],
   "source": [
    "start = time.time()\n",
    "\n",
    "# The C_values to try, smaller value of C specifies stronger regularization\n",
    "C_values = [ 0.000001, 0.00001, 0.0001, 0.001, 0.01, 0.1, 1, 10, 100, 1000, 10000, 100000, 1000000, 10000000]\n",
    "\n",
    "# Empty lists to append train and test accuracy scores to \n",
    "train_acc_mm = list()\n",
    "test_acc_mm = list()\n",
    "\n",
    "# Loop through the different C values\n",
    "for C in C_values:\n",
    "\n",
    "    # Instantiate the model\n",
    "    logit = LogisticRegression(C=C, max_iter=1000, penalty=\"l2\", random_state=42)\n",
    "\n",
    "    # Fit the model \n",
    "    logit.fit(X_train_mm, y_train)\n",
    "\n",
    "    # Score the model \n",
    "    train_acc_mm.append(logit.score(X_train_mm, y_train))\n",
    "    test_acc_mm.append(logit.score(X_test_mm, y_test))\n",
    "\n",
    "stop = time.time()\n",
    "runtime_logit_mm = stop-start\n",
    "print(f\"Runtime: {round(runtime_logit_mm,2)} seconds\")"
   ]
  },
  {
   "cell_type": "code",
   "execution_count": 30,
   "id": "c35d0d78",
   "metadata": {},
   "outputs": [
    {
     "name": "stdout",
     "output_type": "stream",
     "text": [
      "[0.796771088494521, 0.796771088494521, 0.796771088494521, 0.796771088494521, 0.796771088494521, 0.796771088494521, 0.796771088494521, 0.796771088494521, 0.796771088494521, 0.796771088494521, 0.796771088494521, 0.796771088494521, 0.796771088494521, 0.796771088494521]\n"
     ]
    }
   ],
   "source": [
    "print(train_acc_mm)"
   ]
  },
  {
   "cell_type": "code",
   "execution_count": 31,
   "id": "ef605ef4",
   "metadata": {},
   "outputs": [
    {
     "name": "stdout",
     "output_type": "stream",
     "text": [
      "[0.7967719159241285, 0.7967719159241285, 0.7967719159241285, 0.7967719159241285, 0.7967719159241285, 0.7967719159241285, 0.7967719159241285, 0.7967719159241285, 0.7967719159241285, 0.7967719159241285, 0.7967719159241285, 0.7967719159241285, 0.7967719159241285, 0.7967719159241285]\n"
     ]
    }
   ],
   "source": [
    "print(test_acc_mm)"
   ]
  },
  {
   "cell_type": "markdown",
   "id": "c15003df",
   "metadata": {},
   "source": [
    "Observation - The arrays for the train and the test are all the same. "
   ]
  },
  {
   "cell_type": "markdown",
   "id": "96a1fad5",
   "metadata": {},
   "source": [
    "Visualizing the accuracy scores for the different C values."
   ]
  },
  {
   "cell_type": "code",
   "execution_count": 32,
   "id": "f83184fe",
   "metadata": {},
   "outputs": [
    {
     "data": {
      "image/png": "[encoded data removed]",
      "text/plain": [
       "<Figure size 640x480 with 1 Axes>"
      ]
     },
     "metadata": {},
     "output_type": "display_data"
    }
   ],
   "source": [
    "# visualize accuracies for different C-values\n",
    "plt.figure()\n",
    "plt.plot(C_values, train_acc_mm, c='red', label='train')\n",
    "plt.plot(C_values, test_acc_mm, c='blue', label='test')\n",
    "plt.xlabel('C-values')\n",
    "plt.ylabel('Accuracy score')\n",
    "plt.legend()\n",
    "plt.show()"
   ]
  },
  {
   "cell_type": "code",
   "execution_count": 33,
   "id": "e5227248",
   "metadata": {},
   "outputs": [
    {
     "name": "stdout",
     "output_type": "stream",
     "text": [
      "Train Accuracy: 0.796771088494521\n",
      "Test Accuracy: 0.7967719159241285\n"
     ]
    }
   ],
   "source": [
    "# Instantiate the model \n",
    "logit_mm = LogisticRegression(C=1, random_state=42)\n",
    "\n",
    "# Fit the model \n",
    "logit_mm.fit(X_train_mm, y_train)\n",
    "\n",
    "# Store accuracy scores\n",
    "logit_mm_train = logit_mm.score(X_train_mm, y_train)\n",
    "logit_mm_test = logit_mm.score(X_test_mm, y_test)\n",
    "\n",
    "\n",
    "# Score the model \n",
    "print(f\"Train Accuracy: {logit_mm_train}\")\n",
    "print(f\"Test Accuracy: {logit_mm_test}\")"
   ]
  },
  {
   "cell_type": "markdown",
   "id": "268fb87f",
   "metadata": {},
   "source": [
    "Fitting to standardized data. "
   ]
  },
  {
   "cell_type": "code",
   "execution_count": 34,
   "id": "91212c3a",
   "metadata": {},
   "outputs": [
    {
     "name": "stdout",
     "output_type": "stream",
     "text": [
      "Runtime: 5.3 seconds\n"
     ]
    }
   ],
   "source": [
    "start = time.time()\n",
    "\n",
    "# Empty lists to append the training and test accuracy scores to  \n",
    "train_acc_ss = []\n",
    "test_acc_ss = []\n",
    "\n",
    "# Loop through the same C values \n",
    "for C in C_values:\n",
    "\n",
    "    # Instantiate the model \n",
    "    logit=LogisticRegression(C=C, max_iter=1000, penalty=\"l2\", random_state=42)\n",
    "\n",
    "    # Fit the model \n",
    "    logit.fit(X_train_ss, y_train)\n",
    "\n",
    "    # Score the model \n",
    "    train_acc_ss.append(logit.score(X_train_ss, y_train))\n",
    "    test_acc_ss.append(logit.score(X_test_ss, y_test))\n",
    "    \n",
    "stop = time.time()\n",
    "runtime_logit_ss = stop-start\n",
    "print(f\"Runtime: {round(runtime_logit_ss,2)} seconds\")"
   ]
  },
  {
   "cell_type": "code",
   "execution_count": 35,
   "id": "5558b546",
   "metadata": {},
   "outputs": [
    {
     "name": "stdout",
     "output_type": "stream",
     "text": [
      "[0.796771088494521, 0.796771088494521, 0.796771088494521, 0.796771088494521, 0.796771088494521, 0.796771088494521, 0.796771088494521, 0.796771088494521, 0.796771088494521, 0.796771088494521, 0.796771088494521, 0.796771088494521, 0.796771088494521, 0.796771088494521]\n"
     ]
    }
   ],
   "source": [
    "print(train_acc_ss)"
   ]
  },
  {
   "cell_type": "code",
   "execution_count": 36,
   "id": "7fed6543",
   "metadata": {},
   "outputs": [
    {
     "name": "stdout",
     "output_type": "stream",
     "text": [
      "[0.7967719159241285, 0.7967719159241285, 0.7967719159241285, 0.7967719159241285, 0.7967719159241285, 0.7967719159241285, 0.7967719159241285, 0.7967719159241285, 0.7967719159241285, 0.7967719159241285, 0.7967719159241285, 0.7967719159241285, 0.7967719159241285, 0.7967719159241285]\n"
     ]
    }
   ],
   "source": [
    "print(test_acc_ss)"
   ]
  },
  {
   "cell_type": "markdown",
   "id": "92715996",
   "metadata": {},
   "source": [
    "Observation - The arrays for the train and the test are all the same."
   ]
  },
  {
   "cell_type": "code",
   "execution_count": 37,
   "id": "c93a74ac",
   "metadata": {},
   "outputs": [
    {
     "data": {
      "image/png": "[encoded data removed]",
      "text/plain": [
       "<Figure size 640x480 with 1 Axes>"
      ]
     },
     "metadata": {},
     "output_type": "display_data"
    }
   ],
   "source": [
    "# Plotting the train and test scores for every C value \n",
    "plt.figure()\n",
    "plt.plot(C_values, train_acc_ss, c='red', label='train')\n",
    "plt.plot(C_values, test_acc_ss, c='blue', label='test')\n",
    "plt.xscale('log')\n",
    "plt.xlabel('C-values')\n",
    "plt.ylabel('Accuracy score')\n",
    "plt.legend()\n",
    "plt.show()"
   ]
  },
  {
   "cell_type": "code",
   "execution_count": 38,
   "id": "f8043a18",
   "metadata": {},
   "outputs": [
    {
     "name": "stdout",
     "output_type": "stream",
     "text": [
      "Train Accuracy: 0.796771088494521\n",
      "Test Accuracy: 0.7967719159241285\n"
     ]
    }
   ],
   "source": [
    "#Instantiate the model\n",
    "logit_ss = LogisticRegression(C=1, random_state=42)\n",
    "\n",
    "# Fit the model \n",
    "logit_ss.fit(X_train_ss, y_train)\n",
    "\n",
    "# Store accuracy scores\n",
    "logit_ss_train = logit_ss.score(X_train_ss, y_train)\n",
    "logit_ss_test = logit_ss.score(X_test_ss, y_test)\n",
    "\n",
    "# Score the model \n",
    "print(f\"Train Accuracy: {logit_ss_train}\")\n",
    "print(f\"Test Accuracy: {logit_ss_test}\")"
   ]
  },
  {
   "cell_type": "markdown",
   "id": "b563abbf",
   "metadata": {},
   "source": [
    "**The minmax scaler and the standardized scaler produced the same train and test accuracy. Another observation is that when plotting the C-Values the graphs were mysterious in nature. I am beginning to believe that this is the best that we can do with using a logistic regression.**"
   ]
  },
  {
   "cell_type": "markdown",
   "id": "25606ef0",
   "metadata": {},
   "source": [
    "## Decision Tree\n",
    "\n",
    "I will now fit a `DecisionTreeClassifier()` with different `max_depth` values for both sets of transformed data. \n",
    "\n",
    "The parameter `max_depth` is what the name suggests: the maximum depth that you allow the tree to grow to. Without this, a decision tree classifier will continue until it has split every data point i.e. overfitting; the model will predict the training values but it will not perform well with unseen data."
   ]
  },
  {
   "cell_type": "markdown",
   "id": "3af60593",
   "metadata": {},
   "source": [
    "Fitting Decision Tree model to normalized data"
   ]
  },
  {
   "cell_type": "code",
   "execution_count": 40,
   "id": "424ef0c7",
   "metadata": {},
   "outputs": [
    {
     "data": {
      "text/plain": [
       "730339"
      ]
     },
     "execution_count": 40,
     "metadata": {},
     "output_type": "execute_result"
    }
   ],
   "source": [
    "#Number of rows\n",
    "X_train.shape[0]"
   ]
  },
  {
   "cell_type": "code",
   "execution_count": 41,
   "id": "92e4249c",
   "metadata": {},
   "outputs": [
    {
     "data": {
      "text/plain": [
       "range(1, 854)"
      ]
     },
     "execution_count": 41,
     "metadata": {},
     "output_type": "execute_result"
    }
   ],
   "source": [
    "#Indicating range of max_depth values\n",
    "range(1, int(np.sqrt(X_train.shape[0])))"
   ]
  },
  {
   "cell_type": "markdown",
   "id": "8a2ee98c",
   "metadata": {},
   "source": [
    "Taking the square root of the number of rows in a sample is a reasonable starting point to inform the highest max_depth value to be tested."
   ]
  },
  {
   "cell_type": "code",
   "execution_count": 42,
   "id": "72f4f602",
   "metadata": {},
   "outputs": [
    {
     "name": "stdout",
     "output_type": "stream",
     "text": [
      "Runtime: 4619.11 seconds\n"
     ]
    }
   ],
   "source": [
    "start = time.time()\n",
    "\n",
    "#A list of the maximum depths to try out and save to 'depths'\n",
    "depths = range(1, int(np.sqrt(X_train.shape[0])))\n",
    "\n",
    "#Empty lists to append to\n",
    "train_acc_mm = list()\n",
    "test_acc_mm = list()\n",
    "\n",
    "#Loop through the depths\n",
    "for max_depth in depths:\n",
    "    \n",
    "    #Instantiate the model \n",
    "    dt = DecisionTreeClassifier(max_depth=max_depth, random_state=42)\n",
    "    \n",
    "    #Fit the model \n",
    "    dt.fit(X_train_mm, y_train)\n",
    "    \n",
    "    #Score the model \n",
    "    train_acc_mm.append(dt.score(X_train_mm, y_train))\n",
    "    test_acc_mm.append(dt.score(X_test_mm, y_test))\n",
    "    \n",
    "stop = time.time()\n",
    "runtime_dt_mm = stop-start\n",
    "print(f\"Runtime: {round(runtime_dt_mm,2)} seconds\")"
   ]
  },
  {
   "cell_type": "code",
   "execution_count": 43,
   "id": "ac2166ab",
   "metadata": {},
   "outputs": [
    {
     "data": {
      "image/png": "[encoded data removed]",
      "text/plain": [
       "<Figure size 640x480 with 1 Axes>"
      ]
     },
     "metadata": {},
     "output_type": "display_data"
    }
   ],
   "source": [
    "#Plotting the accuracies\n",
    "plt.figure()\n",
    "plt.plot(depths, train_acc_mm, c='r', label='train')\n",
    "plt.plot(depths, test_acc_mm, c='b', label='test')\n",
    "plt.axvline(linestyle='--')\n",
    "plt.xlabel('Max Depth')\n",
    "plt.ylabel('Accuracy Score')\n",
    "plt.title('Testing Tree Depth for Decision Trees Using MaxMin Scaler')\n",
    "plt.legend()\n",
    "plt.show()"
   ]
  },
  {
   "cell_type": "code",
   "execution_count": 44,
   "id": "01bbfc23",
   "metadata": {},
   "outputs": [
    {
     "name": "stdout",
     "output_type": "stream",
     "text": [
      "Train Accuracy: 0.796771088494521\n",
      "Test Accuracy: 0.7967719159241285\n"
     ]
    }
   ],
   "source": [
    "# Best Decision Tree Classifier on normalized data\n",
    "# Instantiate the model \n",
    "dt_mm = DecisionTreeClassifier(max_depth=5)\n",
    "    \n",
    "# Fit the model \n",
    "dt_mm.fit(X_train_mm, y_train)\n",
    "\n",
    "# Store accuracy scores\n",
    "dt_mm_train = dt_mm.score(X_train_mm, y_train)\n",
    "dt_mm_test = dt_mm.score(X_test_mm, y_test)\n",
    "\n",
    "print(f\"Train Accuracy: {dt_mm_train}\")\n",
    "print(f\"Test Accuracy: {dt_mm_test}\")"
   ]
  },
  {
   "cell_type": "markdown",
   "id": "393e7092",
   "metadata": {},
   "source": [
    "Fitting Decision Tree model to standardized data"
   ]
  },
  {
   "cell_type": "code",
   "execution_count": 45,
   "id": "629226d0",
   "metadata": {},
   "outputs": [
    {
     "name": "stdout",
     "output_type": "stream",
     "text": [
      "Runtime: 4612.28 seconds\n"
     ]
    }
   ],
   "source": [
    "start = time.time()\n",
    "\n",
    "#Empty lists to append to \n",
    "train_acc_ss = []\n",
    "test_acc_ss = []\n",
    "\n",
    "#Loop through the different depths\n",
    "for max_depth in depths: \n",
    "    \n",
    "    #Instantiate the model \n",
    "    dt = DecisionTreeClassifier(max_depth=max_depth, random_state=42)\n",
    "    \n",
    "    #Fit the model \n",
    "    dt.fit(X_train_ss, y_train)\n",
    "    \n",
    "    #Score the model \n",
    "    train_acc_ss.append(dt.score(X_train_ss, y_train))\n",
    "    test_acc_ss.append(dt.score(X_test_ss, y_test))\n",
    "    \n",
    "stop = time.time()\n",
    "runtime_dt_ss = stop-start\n",
    "print(f\"Runtime: {round(runtime_dt_ss,2)} seconds\")"
   ]
  },
  {
   "cell_type": "code",
   "execution_count": 46,
   "id": "152bd6f0",
   "metadata": {},
   "outputs": [
    {
     "data": {
      "image/png": "[encoded data removed]",
      "text/plain": [
       "<Figure size 640x480 with 1 Axes>"
      ]
     },
     "metadata": {},
     "output_type": "display_data"
    }
   ],
   "source": [
    "#Plotting the accuracies\n",
    "plt.figure()\n",
    "plt.plot(depths, train_acc_ss, c='red', label='train')\n",
    "plt.plot(depths, test_acc_ss, c='blue', label='test')\n",
    "plt.xlabel(\"max_depth\")\n",
    "plt.ylabel(\"Accuracy score\")\n",
    "plt.legend()\n",
    "plt.show()"
   ]
  },
  {
   "cell_type": "code",
   "execution_count": 47,
   "id": "acb08d33",
   "metadata": {},
   "outputs": [
    {
     "name": "stdout",
     "output_type": "stream",
     "text": [
      "Train Accuracy: 0.796771088494521\n",
      "Test Accuracy: 0.7967719159241285\n"
     ]
    }
   ],
   "source": [
    "#Best Decision Tree Classifier on standardized data\n",
    "#Instantiate the model \n",
    "dt_ss = DecisionTreeClassifier(max_depth=4)\n",
    "    \n",
    "#Fit the model \n",
    "dt_ss.fit(X_train_ss, y_train)\n",
    "\n",
    "#Store accuracy scores\n",
    "dt_ss_train = dt_ss.score(X_train_ss, y_train)\n",
    "dt_ss_test = dt_ss.score(X_test_ss, y_test)\n",
    "\n",
    "#Score the model \n",
    "print(f\"Train Accuracy: {dt_ss_train}\")\n",
    "print(f\"Test Accuracy: {dt_ss_test}\")"
   ]
  },
  {
   "cell_type": "markdown",
   "id": "9882ea4c",
   "metadata": {},
   "source": [
    "## Observations\n",
    "\n",
    "- Intuitively, the max_depth is around 4/5. We see that after this point, the model begins to overfit to the training data.\n",
    "- The `DecisionTreeClassifier()` performance on both the normalized and standardized data for the given 'max_depth' is identical. This is because every split or decision is made based on a single attribute at a time. \n",
    "- Decision Tree Classifiers are insensitive to different scales! I did not have to scale data for this model. \n",
    "- The `DecisionTreeClassifier()` performcance is the same as the `Logistic Regression`. This was not expected and a more in depth analysis will need to be checked. "
   ]
  },
  {
   "cell_type": "markdown",
   "id": "f43dfbcd",
   "metadata": {},
   "source": [
    "## Drawing the Results Together"
   ]
  },
  {
   "cell_type": "code",
   "execution_count": 51,
   "id": "a4f0eecb",
   "metadata": {},
   "outputs": [
    {
     "data": {
      "text/html": [
       "<div>\n",
       "<style scoped>\n",
       "    .dataframe tbody tr th:only-of-type {\n",
       "        vertical-align: middle;\n",
       "    }\n",
       "\n",
       "    .dataframe tbody tr th {\n",
       "        vertical-align: top;\n",
       "    }\n",
       "\n",
       "    .dataframe thead tr th {\n",
       "        text-align: left;\n",
       "    }\n",
       "</style>\n",
       "<table border=\"1\" class=\"dataframe\">\n",
       "  <thead>\n",
       "    <tr>\n",
       "      <th></th>\n",
       "      <th colspan=\"3\" halign=\"left\">MinMaxScaler()</th>\n",
       "      <th colspan=\"3\" halign=\"left\">StandardScaler()</th>\n",
       "    </tr>\n",
       "    <tr>\n",
       "      <th></th>\n",
       "      <th>Train data</th>\n",
       "      <th>Test data</th>\n",
       "      <th>Runtime(sec)</th>\n",
       "      <th>Train data</th>\n",
       "      <th>Test data</th>\n",
       "      <th>Runtime(sec)</th>\n",
       "    </tr>\n",
       "  </thead>\n",
       "  <tbody>\n",
       "    <tr>\n",
       "      <th>Logistic Regression</th>\n",
       "      <td>0.796771</td>\n",
       "      <td>0.796772</td>\n",
       "      <td>18.602544</td>\n",
       "      <td>0.796771</td>\n",
       "      <td>0.796772</td>\n",
       "      <td>5.299975</td>\n",
       "    </tr>\n",
       "    <tr>\n",
       "      <th>Decision Tree Classifier</th>\n",
       "      <td>0.796771</td>\n",
       "      <td>0.796772</td>\n",
       "      <td>4619.108526</td>\n",
       "      <td>0.796771</td>\n",
       "      <td>0.796772</td>\n",
       "      <td>4612.275964</td>\n",
       "    </tr>\n",
       "  </tbody>\n",
       "</table>\n",
       "</div>"
      ],
      "text/plain": [
       "                         MinMaxScaler()                         \\\n",
       "                             Train data Test data Runtime(sec)   \n",
       "Logistic Regression            0.796771  0.796772    18.602544   \n",
       "Decision Tree Classifier       0.796771  0.796772  4619.108526   \n",
       "\n",
       "                         StandardScaler()                         \n",
       "                               Train data Test data Runtime(sec)  \n",
       "Logistic Regression              0.796771  0.796772     5.299975  \n",
       "Decision Tree Classifier         0.796771  0.796772  4612.275964  "
      ]
     },
     "execution_count": 51,
     "metadata": {},
     "output_type": "execute_result"
    }
   ],
   "source": [
    "train_mm_scores = [logit_mm_train, dt_mm_train]\n",
    "test_mm_scores = [logit_mm_test, dt_mm_test]\n",
    "runtimes_mm = [runtime_logit_mm, runtime_dt_mm]\n",
    "train_ss_scores = [logit_ss_train, dt_ss_train]\n",
    "test_ss_scores = [logit_ss_test, dt_ss_test]\n",
    "runtimes_ss = [runtime_logit_ss, runtime_dt_ss]\n",
    "\n",
    "rows = ['Logistic Regression', 'Decision Tree Classifier']\n",
    "\n",
    "model_summary = pd.DataFrame(list(zip(train_mm_scores, test_mm_scores, runtimes_mm, train_ss_scores, test_ss_scores, runtimes_ss)),\n",
    "                             index=rows,\n",
    "                             columns=pd.MultiIndex.from_product([['MinMaxScaler()','StandardScaler()'],\n",
    "                                                                 ['Train data', 'Test data', 'Runtime(sec)']]))\n",
    "\n",
    "model_summary"
   ]
  },
  {
   "cell_type": "markdown",
   "id": "96e248fd",
   "metadata": {},
   "source": [
    "## Conclusion\n",
    "\n"
   ]
  },
  {
   "cell_type": "markdown",
   "id": "b4cdec43",
   "metadata": {},
   "source": [
    "This notebook is the last notebook within the \"Chicago Crime Stats\" capstone project. This is notebook (3) of (3). The \n",
    "problem statement that was explored was: \n",
    "\n",
    ">**“Using machine learning, how may we predict how 'Arrests' change with respect to Ward, Community Area, and other associated features so that we can make communities in Chicago safer for everyone?”**\n",
    "\n",
    "Our baseline models showed an accuracy of ~80%. After this, more measures were taken for model optimization. These included using a `Logistic Regression` but this time using `Precision and Recall` and a `Classification Report` to understand an interpret the findings. A `Decision Tree` was also used. \n",
    "\n",
    "After several attempts, it was observed that the train and test accuracies for all models were the same. In additon, it is safe to say that we cannot predict an `Arrest` with certainty. "
   ]
  }
 ],
 "metadata": {
  "kernelspec": {
   "display_name": "Python 3 (ipykernel)",
   "language": "python",
   "name": "python3"
  },
  "language_info": {
   "codemirror_mode": {
    "name": "ipython",
    "version": 3
   },
   "file_extension": ".py",
   "mimetype": "text/x-python",
   "name": "python",
   "nbconvert_exporter": "python",
   "pygments_lexer": "ipython3",
   "version": "3.10.6"
  }
 },
 "nbformat": 4,
 "nbformat_minor": 5
}
