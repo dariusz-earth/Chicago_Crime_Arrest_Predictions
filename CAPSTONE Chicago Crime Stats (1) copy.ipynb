{
 "cells": [
  {
   "cell_type": "markdown",
   "id": "ec7ae89c",
   "metadata": {},
   "source": [
    "# CAPSTONE: Chicago Crime Stats Data Wrangling/Cleaning\n",
    "\n",
    "**Author: Darius Smith**\n",
    "\n",
    "**BrainStation | Data Science | April 11, 2023**"
   ]
  },
  {
   "cell_type": "markdown",
   "id": "b498a593",
   "metadata": {},
   "source": [
    "## Table of Contents\n",
    "\n",
    "[Data Information](#Dataset-Information)\n",
    "\n",
    "[Data Dictionary](#Data-Dictionary)\n",
    "\n",
    "[Initial Observations](#Initial-Observations)\n",
    "\n",
    "[Data Preparation Plan](#Data-Preparation-Plan)\n",
    "\n",
    "[Null Values](#Null-Values)\n",
    "\n",
    "[Understanding the Data](#Understanding-the-Data)\n",
    "\n",
    "[Conclusion](#Conclusion)"
   ]
  },
  {
   "cell_type": "markdown",
   "id": "daa8294e",
   "metadata": {},
   "source": [
    "## Dataset Information"
   ]
  },
  {
   "cell_type": "markdown",
   "id": "f94ee372",
   "metadata": {},
   "source": [
    "This dataset reflects reported incidents of crime (with the exception of murders where data exists for each victim) that occurred in the City of Chicago from 2001 to present, minus the most recent seven days. Data is extracted from the Chicago Police Department's CLEAR (Citizen Law Enforcement Analysis and Reporting) system. In order to protect the privacy of crime victims, addresses are shown at the block level only and specific locations are not identified."
   ]
  },
  {
   "cell_type": "markdown",
   "id": "203459d1",
   "metadata": {},
   "source": [
    "## Data Dictionary  "
   ]
  },
  {
   "cell_type": "markdown",
   "id": "50c75540",
   "metadata": {},
   "source": [
    "Data about *WHERE* incidents occured: \n",
    "\n",
    "- **Block** - The partially redacted address where the incident occured, placing it on the same black as the actual address. (categorical) \n",
    "\n",
    "- **Location Description** - Description of the location where the incident occured. (categorical)\n",
    "\n",
    "- **Beat** - Indicates the beat where the incident occured. A beat is the smallest geographic area - each beat has a dedicated police beat car. Three (3) to five (5) beats make up a police sector, and three sectors make up a police district. The Chicago Police Department has (22) beats. (categorical) \n",
    "\n",
    "- **District** - Indicates the police district where the incident occured. (categorical) \n",
    "\n",
    "- **Ward** - The ward (City Council district) where the incident occured. (numerical) \n",
    "\n",
    "- **Community Area** - Indicates the community area where the incident occured. Chicago has (77) community areas. (categorical) \n",
    "\n",
    "- **X Coordinate** - The x coordinate of the location where the incident occured in the State Plane Illinois East NAD 1983 projection. This location is shifted from the actual location for partial redaction but falls on the same block. (numerical)\n",
    "\n",
    "- **Y Coordinate** - The y coordinate of the location where the incident occured in the State Plane Illinois East NAD 1983 projection. This location is shifted from the actual location for partial redaction but falls on the same block. (numerical)\n",
    "\n",
    "- **Latitude** - The latitude of the location where the incident occured. This location is shifted from the actual location for partial redaction but falls on the same block. (numerical)\n",
    "\n",
    "- **Longitude** - The longitude of the location where the incident occured. This location is shifted from the actual location for partial redaction but falls on the same block. (numerical)\n",
    "\n",
    "- **Location** - The location where the incident occured in a format that allows for creation of maps and other geographic operations on this data portal. This location is shifted from the actual location for partial redaction but falls on the same block. (numerical)\n",
    "\n",
    "\n",
    "\n",
    "Data about *WHEN* incidents occured:\n",
    "\n",
    "\n",
    "- **Date** - Date when the incident occured. (numerical)\n",
    "\n",
    "- **Year** - Year the incident occured. (numerical)\n",
    "\n",
    "- **ID** - Unique identifier for the record. (numerical) \n",
    "\n",
    "- **Case Number** - The Chicago Police Department RD Number (Records Division Number), which is unique to the incident. (categorical) \n",
    "\n",
    "\n",
    "Data about *WHAT* was the incident\n",
    "\n",
    "- **IUCR** - The Illinois Uniform Crime Reporting code. This is directly linked to the Primary Type and Description. (categorical)\n",
    "\n",
    "- **Primary Type** - The primary description of the IUCR code.(categorical) \n",
    "\n",
    "- **Description** - The secondary description of the IUCR code, a subcategory of the primary description. (categorical)\n",
    "\n",
    "- **Domestic** - Indicates whether the incident was domestic related as defined by the Illinois Domestic Violence Act. (categorical) \n",
    "\n",
    "- **FBI Code** - Indicates the crime classification as outlined in the FBI's National Incident-Based Reporting System (NIBRS). (categorical) \n",
    "\n",
    "\n",
    "Data about *CONSEQUENCES* of the incident\n",
    " \n",
    "- **Arrest** - Indicates whether an arrest was made. (categorical) \n",
    "\n",
    "\n",
    "*WHEN* data was updated by the city of Chicago\n",
    " \n",
    "- **Updated On** - Date and time the record was last updated. (numerical)"
   ]
  },
  {
   "cell_type": "code",
   "execution_count": 1,
   "id": "7e4d8331",
   "metadata": {},
   "outputs": [],
   "source": [
    "# import packages\n",
    "\n",
    "import numpy as np\n",
    "import pandas as pd\n",
    "import matplotlib.pyplot as plt\n",
    "import seaborn as sns"
   ]
  },
  {
   "cell_type": "code",
   "execution_count": 68,
   "id": "8821b798",
   "metadata": {},
   "outputs": [
    {
     "data": {
      "text/html": [
       "<div>\n",
       "<style scoped>\n",
       "    .dataframe tbody tr th:only-of-type {\n",
       "        vertical-align: middle;\n",
       "    }\n",
       "\n",
       "    .dataframe tbody tr th {\n",
       "        vertical-align: top;\n",
       "    }\n",
       "\n",
       "    .dataframe thead th {\n",
       "        text-align: right;\n",
       "    }\n",
       "</style>\n",
       "<table border=\"1\" class=\"dataframe\">\n",
       "  <thead>\n",
       "    <tr style=\"text-align: right;\">\n",
       "      <th></th>\n",
       "      <th>ID</th>\n",
       "      <th>Case Number</th>\n",
       "      <th>Date</th>\n",
       "      <th>Block</th>\n",
       "      <th>IUCR</th>\n",
       "      <th>Primary Type</th>\n",
       "      <th>Description</th>\n",
       "      <th>Location Description</th>\n",
       "      <th>Arrest</th>\n",
       "      <th>Domestic</th>\n",
       "      <th>...</th>\n",
       "      <th>Ward</th>\n",
       "      <th>Community Area</th>\n",
       "      <th>FBI Code</th>\n",
       "      <th>X Coordinate</th>\n",
       "      <th>Y Coordinate</th>\n",
       "      <th>Year</th>\n",
       "      <th>Updated On</th>\n",
       "      <th>Latitude</th>\n",
       "      <th>Longitude</th>\n",
       "      <th>Location</th>\n",
       "    </tr>\n",
       "  </thead>\n",
       "  <tbody>\n",
       "    <tr>\n",
       "      <th>0</th>\n",
       "      <td>10224738</td>\n",
       "      <td>HY411648</td>\n",
       "      <td>09/05/2015 01:30:00 PM</td>\n",
       "      <td>043XX S WOOD ST</td>\n",
       "      <td>0486</td>\n",
       "      <td>BATTERY</td>\n",
       "      <td>DOMESTIC BATTERY SIMPLE</td>\n",
       "      <td>RESIDENCE</td>\n",
       "      <td>False</td>\n",
       "      <td>True</td>\n",
       "      <td>...</td>\n",
       "      <td>12.0</td>\n",
       "      <td>61.0</td>\n",
       "      <td>08B</td>\n",
       "      <td>1165074.0</td>\n",
       "      <td>1875917.0</td>\n",
       "      <td>2015</td>\n",
       "      <td>02/10/2018 03:50:01 PM</td>\n",
       "      <td>41.815117</td>\n",
       "      <td>-87.670000</td>\n",
       "      <td>(41.815117282, -87.669999562)</td>\n",
       "    </tr>\n",
       "    <tr>\n",
       "      <th>1</th>\n",
       "      <td>10224739</td>\n",
       "      <td>HY411615</td>\n",
       "      <td>09/04/2015 11:30:00 AM</td>\n",
       "      <td>008XX N CENTRAL AVE</td>\n",
       "      <td>0870</td>\n",
       "      <td>THEFT</td>\n",
       "      <td>POCKET-PICKING</td>\n",
       "      <td>CTA BUS</td>\n",
       "      <td>False</td>\n",
       "      <td>False</td>\n",
       "      <td>...</td>\n",
       "      <td>29.0</td>\n",
       "      <td>25.0</td>\n",
       "      <td>06</td>\n",
       "      <td>1138875.0</td>\n",
       "      <td>1904869.0</td>\n",
       "      <td>2015</td>\n",
       "      <td>02/10/2018 03:50:01 PM</td>\n",
       "      <td>41.895080</td>\n",
       "      <td>-87.765400</td>\n",
       "      <td>(41.895080471, -87.765400451)</td>\n",
       "    </tr>\n",
       "    <tr>\n",
       "      <th>2</th>\n",
       "      <td>11646166</td>\n",
       "      <td>JC213529</td>\n",
       "      <td>09/01/2018 12:01:00 AM</td>\n",
       "      <td>082XX S INGLESIDE AVE</td>\n",
       "      <td>0810</td>\n",
       "      <td>THEFT</td>\n",
       "      <td>OVER $500</td>\n",
       "      <td>RESIDENCE</td>\n",
       "      <td>False</td>\n",
       "      <td>True</td>\n",
       "      <td>...</td>\n",
       "      <td>8.0</td>\n",
       "      <td>44.0</td>\n",
       "      <td>06</td>\n",
       "      <td>NaN</td>\n",
       "      <td>NaN</td>\n",
       "      <td>2018</td>\n",
       "      <td>04/06/2019 04:04:43 PM</td>\n",
       "      <td>NaN</td>\n",
       "      <td>NaN</td>\n",
       "      <td>NaN</td>\n",
       "    </tr>\n",
       "    <tr>\n",
       "      <th>3</th>\n",
       "      <td>10224740</td>\n",
       "      <td>HY411595</td>\n",
       "      <td>09/05/2015 12:45:00 PM</td>\n",
       "      <td>035XX W BARRY AVE</td>\n",
       "      <td>2023</td>\n",
       "      <td>NARCOTICS</td>\n",
       "      <td>POSS: HEROIN(BRN/TAN)</td>\n",
       "      <td>SIDEWALK</td>\n",
       "      <td>True</td>\n",
       "      <td>False</td>\n",
       "      <td>...</td>\n",
       "      <td>35.0</td>\n",
       "      <td>21.0</td>\n",
       "      <td>18</td>\n",
       "      <td>1152037.0</td>\n",
       "      <td>1920384.0</td>\n",
       "      <td>2015</td>\n",
       "      <td>02/10/2018 03:50:01 PM</td>\n",
       "      <td>41.937406</td>\n",
       "      <td>-87.716650</td>\n",
       "      <td>(41.937405765, -87.716649687)</td>\n",
       "    </tr>\n",
       "    <tr>\n",
       "      <th>4</th>\n",
       "      <td>10224741</td>\n",
       "      <td>HY411610</td>\n",
       "      <td>09/05/2015 01:00:00 PM</td>\n",
       "      <td>0000X N LARAMIE AVE</td>\n",
       "      <td>0560</td>\n",
       "      <td>ASSAULT</td>\n",
       "      <td>SIMPLE</td>\n",
       "      <td>APARTMENT</td>\n",
       "      <td>False</td>\n",
       "      <td>True</td>\n",
       "      <td>...</td>\n",
       "      <td>28.0</td>\n",
       "      <td>25.0</td>\n",
       "      <td>08A</td>\n",
       "      <td>1141706.0</td>\n",
       "      <td>1900086.0</td>\n",
       "      <td>2015</td>\n",
       "      <td>02/10/2018 03:50:01 PM</td>\n",
       "      <td>41.881903</td>\n",
       "      <td>-87.755121</td>\n",
       "      <td>(41.881903443, -87.755121152)</td>\n",
       "    </tr>\n",
       "  </tbody>\n",
       "</table>\n",
       "<p>5 rows × 22 columns</p>\n",
       "</div>"
      ],
      "text/plain": [
       "         ID Case Number                    Date                  Block  IUCR  \\\n",
       "0  10224738    HY411648  09/05/2015 01:30:00 PM        043XX S WOOD ST  0486   \n",
       "1  10224739    HY411615  09/04/2015 11:30:00 AM    008XX N CENTRAL AVE  0870   \n",
       "2  11646166    JC213529  09/01/2018 12:01:00 AM  082XX S INGLESIDE AVE  0810   \n",
       "3  10224740    HY411595  09/05/2015 12:45:00 PM      035XX W BARRY AVE  2023   \n",
       "4  10224741    HY411610  09/05/2015 01:00:00 PM    0000X N LARAMIE AVE  0560   \n",
       "\n",
       "  Primary Type              Description Location Description  Arrest  \\\n",
       "0      BATTERY  DOMESTIC BATTERY SIMPLE            RESIDENCE   False   \n",
       "1        THEFT           POCKET-PICKING              CTA BUS   False   \n",
       "2        THEFT                OVER $500            RESIDENCE   False   \n",
       "3    NARCOTICS    POSS: HEROIN(BRN/TAN)             SIDEWALK    True   \n",
       "4      ASSAULT                   SIMPLE            APARTMENT   False   \n",
       "\n",
       "   Domestic  ...  Ward  Community Area  FBI Code  X Coordinate Y Coordinate  \\\n",
       "0      True  ...  12.0            61.0       08B     1165074.0    1875917.0   \n",
       "1     False  ...  29.0            25.0        06     1138875.0    1904869.0   \n",
       "2      True  ...   8.0            44.0        06           NaN          NaN   \n",
       "3     False  ...  35.0            21.0        18     1152037.0    1920384.0   \n",
       "4      True  ...  28.0            25.0       08A     1141706.0    1900086.0   \n",
       "\n",
       "   Year              Updated On   Latitude  Longitude  \\\n",
       "0  2015  02/10/2018 03:50:01 PM  41.815117 -87.670000   \n",
       "1  2015  02/10/2018 03:50:01 PM  41.895080 -87.765400   \n",
       "2  2018  04/06/2019 04:04:43 PM        NaN        NaN   \n",
       "3  2015  02/10/2018 03:50:01 PM  41.937406 -87.716650   \n",
       "4  2015  02/10/2018 03:50:01 PM  41.881903 -87.755121   \n",
       "\n",
       "                        Location  \n",
       "0  (41.815117282, -87.669999562)  \n",
       "1  (41.895080471, -87.765400451)  \n",
       "2                            NaN  \n",
       "3  (41.937405765, -87.716649687)  \n",
       "4  (41.881903443, -87.755121152)  \n",
       "\n",
       "[5 rows x 22 columns]"
      ]
     },
     "execution_count": 68,
     "metadata": {},
     "output_type": "execute_result"
    }
   ],
   "source": [
    "#importing the data being viewed and viewing the first 5 rows. \n",
    "crime_df = pd.read_csv(\"Crimes_2001_to_Present.csv\") \n",
    "crime_df.head(5)"
   ]
  },
  {
   "cell_type": "code",
   "execution_count": 3,
   "id": "a0c654ef",
   "metadata": {},
   "outputs": [
    {
     "data": {
      "text/html": [
       "<div>\n",
       "<style scoped>\n",
       "    .dataframe tbody tr th:only-of-type {\n",
       "        vertical-align: middle;\n",
       "    }\n",
       "\n",
       "    .dataframe tbody tr th {\n",
       "        vertical-align: top;\n",
       "    }\n",
       "\n",
       "    .dataframe thead th {\n",
       "        text-align: right;\n",
       "    }\n",
       "</style>\n",
       "<table border=\"1\" class=\"dataframe\">\n",
       "  <thead>\n",
       "    <tr style=\"text-align: right;\">\n",
       "      <th></th>\n",
       "      <th>ID</th>\n",
       "      <th>Case Number</th>\n",
       "      <th>Date</th>\n",
       "      <th>Block</th>\n",
       "      <th>IUCR</th>\n",
       "      <th>Primary Type</th>\n",
       "      <th>Description</th>\n",
       "      <th>Location Description</th>\n",
       "      <th>Arrest</th>\n",
       "      <th>Domestic</th>\n",
       "      <th>...</th>\n",
       "      <th>Ward</th>\n",
       "      <th>Community Area</th>\n",
       "      <th>FBI Code</th>\n",
       "      <th>X Coordinate</th>\n",
       "      <th>Y Coordinate</th>\n",
       "      <th>Year</th>\n",
       "      <th>Updated On</th>\n",
       "      <th>Latitude</th>\n",
       "      <th>Longitude</th>\n",
       "      <th>Location</th>\n",
       "    </tr>\n",
       "  </thead>\n",
       "  <tbody>\n",
       "    <tr>\n",
       "      <th>7742471</th>\n",
       "      <td>12936285</td>\n",
       "      <td>JF526139</td>\n",
       "      <td>06/27/2022 10:05:00 AM</td>\n",
       "      <td>025XX N HALSTED ST</td>\n",
       "      <td>1153</td>\n",
       "      <td>DECEPTIVE PRACTICE</td>\n",
       "      <td>FINANCIAL IDENTITY THEFT OVER $ 300</td>\n",
       "      <td>NaN</td>\n",
       "      <td>False</td>\n",
       "      <td>False</td>\n",
       "      <td>...</td>\n",
       "      <td>43.0</td>\n",
       "      <td>7.0</td>\n",
       "      <td>11</td>\n",
       "      <td>1170513.0</td>\n",
       "      <td>1917030.0</td>\n",
       "      <td>2022</td>\n",
       "      <td>01/03/2023 03:46:28 PM</td>\n",
       "      <td>41.927817</td>\n",
       "      <td>-87.648846</td>\n",
       "      <td>(41.927817456, -87.648845932)</td>\n",
       "    </tr>\n",
       "    <tr>\n",
       "      <th>7742472</th>\n",
       "      <td>12936301</td>\n",
       "      <td>JF526810</td>\n",
       "      <td>12/22/2022 06:00:00 PM</td>\n",
       "      <td>020XX W CORNELIA AVE</td>\n",
       "      <td>1320</td>\n",
       "      <td>CRIMINAL DAMAGE</td>\n",
       "      <td>TO VEHICLE</td>\n",
       "      <td>STREET</td>\n",
       "      <td>False</td>\n",
       "      <td>False</td>\n",
       "      <td>...</td>\n",
       "      <td>32.0</td>\n",
       "      <td>5.0</td>\n",
       "      <td>14</td>\n",
       "      <td>1161968.0</td>\n",
       "      <td>1923233.0</td>\n",
       "      <td>2022</td>\n",
       "      <td>01/03/2023 03:46:28 PM</td>\n",
       "      <td>41.945022</td>\n",
       "      <td>-87.680072</td>\n",
       "      <td>(41.945021752, -87.680071764)</td>\n",
       "    </tr>\n",
       "    <tr>\n",
       "      <th>7742473</th>\n",
       "      <td>12938501</td>\n",
       "      <td>JF523997</td>\n",
       "      <td>12/26/2022 10:30:00 PM</td>\n",
       "      <td>021XX W DEVON AVE</td>\n",
       "      <td>0915</td>\n",
       "      <td>MOTOR VEHICLE THEFT</td>\n",
       "      <td>TRUCK, BUS, MOTOR HOME</td>\n",
       "      <td>PARKING LOT / GARAGE (NON RESIDENTIAL)</td>\n",
       "      <td>False</td>\n",
       "      <td>False</td>\n",
       "      <td>...</td>\n",
       "      <td>50.0</td>\n",
       "      <td>2.0</td>\n",
       "      <td>07</td>\n",
       "      <td>1160681.0</td>\n",
       "      <td>1942466.0</td>\n",
       "      <td>2022</td>\n",
       "      <td>01/03/2023 03:46:28 PM</td>\n",
       "      <td>41.997825</td>\n",
       "      <td>-87.684267</td>\n",
       "      <td>(41.997824802, -87.684266677)</td>\n",
       "    </tr>\n",
       "    <tr>\n",
       "      <th>7742474</th>\n",
       "      <td>12936397</td>\n",
       "      <td>JF526745</td>\n",
       "      <td>12/19/2022 02:00:00 PM</td>\n",
       "      <td>044XX N ROCKWELL ST</td>\n",
       "      <td>0620</td>\n",
       "      <td>BURGLARY</td>\n",
       "      <td>UNLAWFUL ENTRY</td>\n",
       "      <td>APARTMENT</td>\n",
       "      <td>False</td>\n",
       "      <td>False</td>\n",
       "      <td>...</td>\n",
       "      <td>47.0</td>\n",
       "      <td>4.0</td>\n",
       "      <td>05</td>\n",
       "      <td>1158237.0</td>\n",
       "      <td>1929586.0</td>\n",
       "      <td>2022</td>\n",
       "      <td>01/03/2023 03:46:28 PM</td>\n",
       "      <td>41.962532</td>\n",
       "      <td>-87.693611</td>\n",
       "      <td>(41.962531969, -87.693611152)</td>\n",
       "    </tr>\n",
       "    <tr>\n",
       "      <th>7742475</th>\n",
       "      <td>12935341</td>\n",
       "      <td>JF525383</td>\n",
       "      <td>12/20/2022 06:45:00 AM</td>\n",
       "      <td>027XX W ROOSEVELT RD</td>\n",
       "      <td>0810</td>\n",
       "      <td>THEFT</td>\n",
       "      <td>OVER $500</td>\n",
       "      <td>STREET</td>\n",
       "      <td>False</td>\n",
       "      <td>False</td>\n",
       "      <td>...</td>\n",
       "      <td>28.0</td>\n",
       "      <td>29.0</td>\n",
       "      <td>06</td>\n",
       "      <td>1158071.0</td>\n",
       "      <td>1894595.0</td>\n",
       "      <td>2022</td>\n",
       "      <td>01/03/2023 03:46:28 PM</td>\n",
       "      <td>41.866517</td>\n",
       "      <td>-87.695179</td>\n",
       "      <td>(41.866517317, -87.695178701)</td>\n",
       "    </tr>\n",
       "  </tbody>\n",
       "</table>\n",
       "<p>5 rows × 22 columns</p>\n",
       "</div>"
      ],
      "text/plain": [
       "               ID Case Number                    Date                 Block  \\\n",
       "7742471  12936285    JF526139  06/27/2022 10:05:00 AM    025XX N HALSTED ST   \n",
       "7742472  12936301    JF526810  12/22/2022 06:00:00 PM  020XX W CORNELIA AVE   \n",
       "7742473  12938501    JF523997  12/26/2022 10:30:00 PM     021XX W DEVON AVE   \n",
       "7742474  12936397    JF526745  12/19/2022 02:00:00 PM   044XX N ROCKWELL ST   \n",
       "7742475  12935341    JF525383  12/20/2022 06:45:00 AM  027XX W ROOSEVELT RD   \n",
       "\n",
       "         IUCR         Primary Type                          Description  \\\n",
       "7742471  1153   DECEPTIVE PRACTICE  FINANCIAL IDENTITY THEFT OVER $ 300   \n",
       "7742472  1320      CRIMINAL DAMAGE                           TO VEHICLE   \n",
       "7742473  0915  MOTOR VEHICLE THEFT               TRUCK, BUS, MOTOR HOME   \n",
       "7742474  0620             BURGLARY                       UNLAWFUL ENTRY   \n",
       "7742475  0810                THEFT                            OVER $500   \n",
       "\n",
       "                           Location Description  Arrest  Domestic  ...  Ward  \\\n",
       "7742471                                     NaN   False     False  ...  43.0   \n",
       "7742472                                  STREET   False     False  ...  32.0   \n",
       "7742473  PARKING LOT / GARAGE (NON RESIDENTIAL)   False     False  ...  50.0   \n",
       "7742474                               APARTMENT   False     False  ...  47.0   \n",
       "7742475                                  STREET   False     False  ...  28.0   \n",
       "\n",
       "         Community Area  FBI Code  X Coordinate Y Coordinate  Year  \\\n",
       "7742471             7.0        11     1170513.0    1917030.0  2022   \n",
       "7742472             5.0        14     1161968.0    1923233.0  2022   \n",
       "7742473             2.0        07     1160681.0    1942466.0  2022   \n",
       "7742474             4.0        05     1158237.0    1929586.0  2022   \n",
       "7742475            29.0        06     1158071.0    1894595.0  2022   \n",
       "\n",
       "                     Updated On   Latitude  Longitude  \\\n",
       "7742471  01/03/2023 03:46:28 PM  41.927817 -87.648846   \n",
       "7742472  01/03/2023 03:46:28 PM  41.945022 -87.680072   \n",
       "7742473  01/03/2023 03:46:28 PM  41.997825 -87.684267   \n",
       "7742474  01/03/2023 03:46:28 PM  41.962532 -87.693611   \n",
       "7742475  01/03/2023 03:46:28 PM  41.866517 -87.695179   \n",
       "\n",
       "                              Location  \n",
       "7742471  (41.927817456, -87.648845932)  \n",
       "7742472  (41.945021752, -87.680071764)  \n",
       "7742473  (41.997824802, -87.684266677)  \n",
       "7742474  (41.962531969, -87.693611152)  \n",
       "7742475  (41.866517317, -87.695178701)  \n",
       "\n",
       "[5 rows x 22 columns]"
      ]
     },
     "execution_count": 3,
     "metadata": {},
     "output_type": "execute_result"
    }
   ],
   "source": [
    "#viewing the last 5 rows.\n",
    "crime_df = pd.read_csv(\"Crimes_2001_to_Present.csv\") \n",
    "crime_df.tail(5)"
   ]
  },
  {
   "cell_type": "code",
   "execution_count": 4,
   "id": "f5f36ad1",
   "metadata": {},
   "outputs": [
    {
     "name": "stdout",
     "output_type": "stream",
     "text": [
      "<class 'pandas.core.frame.DataFrame'>\n",
      "RangeIndex: 7742476 entries, 0 to 7742475\n",
      "Data columns (total 22 columns):\n",
      " #   Column                Dtype  \n",
      "---  ------                -----  \n",
      " 0   ID                    int64  \n",
      " 1   Case Number           object \n",
      " 2   Date                  object \n",
      " 3   Block                 object \n",
      " 4   IUCR                  object \n",
      " 5   Primary Type          object \n",
      " 6   Description           object \n",
      " 7   Location Description  object \n",
      " 8   Arrest                bool   \n",
      " 9   Domestic              bool   \n",
      " 10  Beat                  int64  \n",
      " 11  District              float64\n",
      " 12  Ward                  float64\n",
      " 13  Community Area        float64\n",
      " 14  FBI Code              object \n",
      " 15  X Coordinate          float64\n",
      " 16  Y Coordinate          float64\n",
      " 17  Year                  int64  \n",
      " 18  Updated On            object \n",
      " 19  Latitude              float64\n",
      " 20  Longitude             float64\n",
      " 21  Location              object \n",
      "dtypes: bool(2), float64(7), int64(3), object(10)\n",
      "memory usage: 1.2+ GB\n"
     ]
    }
   ],
   "source": [
    "#learning about the data frame. \n",
    "#there are (4) datatypes: (2) booleans, (7) float64, (3) int64, and (10) objects/strings.\n",
    "#there are (22) columns and (7,742,476) rows. This our shape, but will double check using .shape.\n",
    "crime_df.info()"
   ]
  },
  {
   "cell_type": "code",
   "execution_count": 5,
   "id": "f5fc07c5",
   "metadata": {},
   "outputs": [
    {
     "data": {
      "text/plain": [
       "(7742476, 22)"
      ]
     },
     "execution_count": 5,
     "metadata": {},
     "output_type": "execute_result"
    }
   ],
   "source": [
    "#reconfirming the shape. \n",
    "crime_df.shape"
   ]
  },
  {
   "cell_type": "markdown",
   "id": "35489a9c",
   "metadata": {},
   "source": [
    "## Initial Observations"
   ]
  },
  {
   "cell_type": "markdown",
   "id": "f596a57d",
   "metadata": {},
   "source": [
    "- There are NaN values in the 'Location Description', 'X coordinate', 'Y coordinate', 'Latitude', 'Longitude', and 'Location' columns.\n",
    "- 'Date' and 'Year'columns are unorganized. Not in ascending or descending order. Also, both start 'date' and 'year' is 2015.  \n",
    "- 'Arrest' and 'Domestic' are labeled either True or False. \n",
    "- 'Year' and 'Date' also seems to have the same data in them. - (year)\n",
    "- Date is an object type, needs to be convereted to 'datetime' format.\n",
    "- 'Location' is a combined 'X coordinate' and 'Y coordinate.' This may be redudant information. \n",
    "- 'Ward', 'Community', and 'X coordinate', 'Y coordinate', 'Latitude', 'Longitude', and 'Location' are floats. \n",
    "- 'District' seems to be missing from the date. Column is not available in the head. "
   ]
  },
  {
   "cell_type": "markdown",
   "id": "53283abe",
   "metadata": {},
   "source": [
    "## Data Preparation Plan\n",
    "\n",
    "- Check for duplicates.\n",
    "- Check for null values.\n",
    "- If any null values exist, deal with them appropiately.\n",
    "- Convert 'Date' column to 'datetime' format. Take a look at the column data, and gather some intital insight. \n",
    "- Check and see if the 'District' column exists. Gather some insight on column. \n",
    "- Pick a few numerical & a few categorical columns and determine what data they are storing and distribution."
   ]
  },
  {
   "cell_type": "code",
   "execution_count": 6,
   "id": "6494ee3c",
   "metadata": {},
   "outputs": [
    {
     "data": {
      "text/plain": [
       "0          False\n",
       "1          False\n",
       "2          False\n",
       "3          False\n",
       "4          False\n",
       "           ...  \n",
       "7742471    False\n",
       "7742472    False\n",
       "7742473    False\n",
       "7742474    False\n",
       "7742475    False\n",
       "Length: 7742476, dtype: bool"
      ]
     },
     "execution_count": 6,
     "metadata": {},
     "output_type": "execute_result"
    }
   ],
   "source": [
    "#.duplicated() returns a true-false array if a row is a duplicate.\n",
    "crime_df.duplicated()"
   ]
  },
  {
   "cell_type": "markdown",
   "id": "3a5c2a84",
   "metadata": {},
   "source": [
    "There seems to be no visible data that is duplicated in the dataframe.\n",
    "Will use `.sum` to confirm. "
   ]
  },
  {
   "cell_type": "code",
   "execution_count": 7,
   "id": "8618fa15",
   "metadata": {},
   "outputs": [
    {
     "data": {
      "text/plain": [
       "0"
      ]
     },
     "execution_count": 7,
     "metadata": {},
     "output_type": "execute_result"
    }
   ],
   "source": [
    "# Summing the resultant array to get the total number of duplicate rows.\n",
    "crime_df.duplicated().sum()"
   ]
  },
  {
   "cell_type": "markdown",
   "id": "a212fcd6",
   "metadata": {},
   "source": [
    "**After double checking, it is confirmed that there is no duplicated data in the dataframe. Now moving forward with dealing with null values.**"
   ]
  },
  {
   "cell_type": "markdown",
   "id": "2c965a23",
   "metadata": {},
   "source": [
    "### Dealing with Null Values in the Crime Dataset\n",
    "\n",
    "- First step, get the sum of null values. \n",
    "- Second step, calculate the proportion of null values missing. \n",
    "- Third step, decide what to do with the values."
   ]
  },
  {
   "cell_type": "code",
   "execution_count": 8,
   "id": "ef643247",
   "metadata": {},
   "outputs": [
    {
     "data": {
      "text/plain": [
       "ID                           0\n",
       "Case Number                  4\n",
       "Date                         0\n",
       "Block                        0\n",
       "IUCR                         0\n",
       "Primary Type                 0\n",
       "Description                  0\n",
       "Location Description     10093\n",
       "Arrest                       0\n",
       "Domestic                     0\n",
       "Beat                         0\n",
       "District                    47\n",
       "Ward                    614847\n",
       "Community Area          613476\n",
       "FBI Code                     0\n",
       "X Coordinate             85036\n",
       "Y Coordinate             85036\n",
       "Year                         0\n",
       "Updated On                   0\n",
       "Latitude                 85036\n",
       "Longitude                85036\n",
       "Location                 85036\n",
       "dtype: int64"
      ]
     },
     "execution_count": 8,
     "metadata": {},
     "output_type": "execute_result"
    }
   ],
   "source": [
    "#Getting the sum of null values by column \n",
    "crime_df.isna().sum()"
   ]
  },
  {
   "cell_type": "code",
   "execution_count": 9,
   "id": "4c801bca",
   "metadata": {},
   "outputs": [
    {
     "data": {
      "text/plain": [
       "1663647"
      ]
     },
     "execution_count": 9,
     "metadata": {},
     "output_type": "execute_result"
    }
   ],
   "source": [
    "#Getting the total sum of null values\n",
    "crime_df.isna().sum().sum()"
   ]
  },
  {
   "cell_type": "code",
   "execution_count": 10,
   "id": "63e5062a",
   "metadata": {
    "scrolled": false
   },
   "outputs": [
    {
     "data": {
      "text/plain": [
       "Ward                    7.941219\n",
       "Community Area          7.923512\n",
       "Location                1.098305\n",
       "Longitude               1.098305\n",
       "Latitude                1.098305\n",
       "Y Coordinate            1.098305\n",
       "X Coordinate            1.098305\n",
       "Location Description    0.130359\n",
       "District                0.000607\n",
       "Case Number             0.000052\n",
       "Domestic                0.000000\n",
       "Beat                    0.000000\n",
       "Arrest                  0.000000\n",
       "Description             0.000000\n",
       "FBI Code                0.000000\n",
       "Primary Type            0.000000\n",
       "IUCR                    0.000000\n",
       "Year                    0.000000\n",
       "Updated On              0.000000\n",
       "Block                   0.000000\n",
       "Date                    0.000000\n",
       "ID                      0.000000\n",
       "dtype: float64"
      ]
     },
     "execution_count": 10,
     "metadata": {},
     "output_type": "execute_result"
    }
   ],
   "source": [
    "#Calculating the proportion of nulls missing. \n",
    "crime_df.isna().mean().sort_values(ascending = False)*100"
   ]
  },
  {
   "cell_type": "markdown",
   "id": "24151dfb",
   "metadata": {},
   "source": [
    "## Null Values\n",
    "\n",
    "**Intital Observations:**\n",
    "\n",
    "- There are (10) columns with null values. \n",
    "- 'Ward' and 'Community Area' has the highest percentage of null values. \n",
    "- 'District' and 'Case Number' has the lowest percentage of null values.\n",
    "\n",
    "**Options**\n",
    "\n",
    "- Remove any row that has missing values\n",
    "- Impute\n",
    "    - impute with a measure of central tendency (mean or median imputation)\n",
    "    - do model based imputation "
   ]
  },
  {
   "cell_type": "code",
   "execution_count": 11,
   "id": "4adbaac1",
   "metadata": {
    "scrolled": true
   },
   "outputs": [
    {
     "name": "stderr",
     "output_type": "stream",
     "text": [
      "/var/folders/26/3jnnrvjs3534y_dh9pff888c0000gn/T/ipykernel_95664/2755375381.py:3: FutureWarning: The default value of numeric_only in DataFrame.corr is deprecated. In a future version, it will default to False. Select only valid columns or specify the value of numeric_only to silence this warning.\n",
      "  crime_df.corr()['Ward'].abs().sort_values(ascending = False)\n"
     ]
    },
    {
     "data": {
      "text/plain": [
       "Ward              1.000000\n",
       "District          0.685384\n",
       "Beat              0.642122\n",
       "Latitude          0.635823\n",
       "Y Coordinate      0.635689\n",
       "Community Area    0.529198\n",
       "X Coordinate      0.445831\n",
       "Longitude         0.441724\n",
       "Domestic          0.055672\n",
       "ID                0.021880\n",
       "Year              0.021174\n",
       "Arrest            0.016979\n",
       "Name: Ward, dtype: float64"
      ]
     },
     "execution_count": 11,
     "metadata": {},
     "output_type": "execute_result"
    }
   ],
   "source": [
    "#Finding columns with a strong relationship to 'Ward'\n",
    "#Constant of proportionality\n",
    "crime_df.corr()['Ward'].abs().sort_values(ascending = False)"
   ]
  },
  {
   "cell_type": "code",
   "execution_count": 12,
   "id": "47bd8a87",
   "metadata": {},
   "outputs": [],
   "source": [
    "#Making a helper function to generate histograms with measures of central tendency\n",
    "\n",
    "def histogram_helper(col):\n",
    "    \n",
    "    plt.figure()\n",
    "    plt.hist(crime_df[col],bins = 25,color = 'grey')\n",
    "    plt.xlabel(col)\n",
    "    plt.axvline(crime_df[col].mean(),label = \"mean\",color = \"red\")\n",
    "    plt.axvline(crime_df[col].median(),label = \"median\",color = \"blue\")\n",
    "    plt.axvline(crime_df[col].mode()[0],label = \"mode\",color = \"black\")\n",
    "    plt.legend()\n",
    "    plt.title(f\"histogram of {col}\")\n",
    "    plt.show()\n",
    "    \n",
    "    print(\"-\"*80)\n",
    "    print(f\"mean {crime_df[col].mean()}\")\n",
    "    print(f\"median {crime_df[col].median()}\")\n",
    "    print(f\"mode {crime_df[col].mode()[0]}\")"
   ]
  },
  {
   "cell_type": "code",
   "execution_count": 13,
   "id": "6eda42e3",
   "metadata": {},
   "outputs": [
    {
     "data": {
      "image/png": "[encoded data removed]",
      "text/plain": [
       "<Figure size 640x480 with 1 Axes>"
      ]
     },
     "metadata": {},
     "output_type": "display_data"
    },
    {
     "name": "stdout",
     "output_type": "stream",
     "text": [
      "--------------------------------------------------------------------------------\n",
      "mean 22.75114838328426\n",
      "median 23.0\n",
      "mode 28.0\n"
     ]
    }
   ],
   "source": [
    "#Running a historgram for 'Ward'\n",
    "\n",
    "histogram_helper('Ward')"
   ]
  },
  {
   "cell_type": "code",
   "execution_count": 14,
   "id": "2cd16419",
   "metadata": {},
   "outputs": [],
   "source": [
    "#Going to use median\n",
    "#Seems like the best value to use for imputation\n",
    "#Imputing\n",
    "crime_df.loc[crime_df['Ward'].isna(),'Ward'] = \\\n",
    "crime_df['Ward'].fillna(crime_df['Ward'].median())"
   ]
  },
  {
   "cell_type": "code",
   "execution_count": 15,
   "id": "16b6cad2",
   "metadata": {
    "scrolled": true
   },
   "outputs": [
    {
     "data": {
      "text/plain": [
       "ID                           0\n",
       "Case Number                  4\n",
       "Date                         0\n",
       "Block                        0\n",
       "IUCR                         0\n",
       "Primary Type                 0\n",
       "Description                  0\n",
       "Location Description     10093\n",
       "Arrest                       0\n",
       "Domestic                     0\n",
       "Beat                         0\n",
       "District                    47\n",
       "Ward                         0\n",
       "Community Area          613476\n",
       "FBI Code                     0\n",
       "X Coordinate             85036\n",
       "Y Coordinate             85036\n",
       "Year                         0\n",
       "Updated On                   0\n",
       "Latitude                 85036\n",
       "Longitude                85036\n",
       "Location                 85036\n",
       "dtype: int64"
      ]
     },
     "execution_count": 15,
     "metadata": {},
     "output_type": "execute_result"
    }
   ],
   "source": [
    "#Doing the null report to examine if there are still any in 'Ward'\n",
    "crime_df.isna().sum()"
   ]
  },
  {
   "cell_type": "markdown",
   "id": "31a44a17",
   "metadata": {},
   "source": [
    "**There are no more missing values in 'Ward.' Moving forward 'Community Area' null values in our dataframe.**"
   ]
  },
  {
   "cell_type": "code",
   "execution_count": 16,
   "id": "a403ee9d",
   "metadata": {},
   "outputs": [],
   "source": [
    "#Making a helper function to generate histograms with measures of central tendency\n",
    "\n",
    "def histogram_helper(col):\n",
    "    \n",
    "    plt.figure()\n",
    "    plt.hist(crime_df[col],bins = 25,color = 'grey')\n",
    "    plt.xlabel(col)\n",
    "    plt.axvline(crime_df[col].mean(),label = \"mean\",color = \"red\")\n",
    "    plt.axvline(crime_df[col].median(),label = \"median\",color = \"blue\")\n",
    "    plt.axvline(crime_df[col].mode()[0],label = \"mode\",color = \"black\")\n",
    "    plt.legend()\n",
    "    plt.title(f\"histogram of {col}\")\n",
    "    plt.show()\n",
    "    \n",
    "    print(\"-\"*80)\n",
    "    print(f\"mean {crime_df[col].mean()}\")\n",
    "    print(f\"median {crime_df[col].median()}\")\n",
    "    print(f\"mode {crime_df[col].mode()[0]}\")"
   ]
  },
  {
   "cell_type": "code",
   "execution_count": 17,
   "id": "39231128",
   "metadata": {},
   "outputs": [
    {
     "data": {
      "image/png": "[encoded data removed]",
      "text/plain": [
       "<Figure size 640x480 with 1 Axes>"
      ]
     },
     "metadata": {},
     "output_type": "display_data"
    },
    {
     "name": "stdout",
     "output_type": "stream",
     "text": [
      "--------------------------------------------------------------------------------\n",
      "mean 37.489471033805586\n",
      "median 32.0\n",
      "mode 25.0\n"
     ]
    }
   ],
   "source": [
    "#Running a historgram for 'Community Area'\n",
    "histogram_helper('Community Area')"
   ]
  },
  {
   "cell_type": "code",
   "execution_count": 18,
   "id": "fd862d35",
   "metadata": {},
   "outputs": [],
   "source": [
    "# Going to use mode.\n",
    "#The most common value \n",
    "\n",
    "crime_df.loc[crime_df['Community Area'].isna(),'Community Area'] = \\\n",
    "crime_df['Community Area'].fillna(crime_df['Community Area'].mode()[0])"
   ]
  },
  {
   "cell_type": "code",
   "execution_count": 19,
   "id": "1b967fac",
   "metadata": {},
   "outputs": [
    {
     "data": {
      "text/plain": [
       "ID                          0\n",
       "Case Number                 4\n",
       "Date                        0\n",
       "Block                       0\n",
       "IUCR                        0\n",
       "Primary Type                0\n",
       "Description                 0\n",
       "Location Description    10093\n",
       "Arrest                      0\n",
       "Domestic                    0\n",
       "Beat                        0\n",
       "District                   47\n",
       "Ward                        0\n",
       "Community Area              0\n",
       "FBI Code                    0\n",
       "X Coordinate            85036\n",
       "Y Coordinate            85036\n",
       "Year                        0\n",
       "Updated On                  0\n",
       "Latitude                85036\n",
       "Longitude               85036\n",
       "Location                85036\n",
       "dtype: int64"
      ]
     },
     "execution_count": 19,
     "metadata": {},
     "output_type": "execute_result"
    }
   ],
   "source": [
    "#Doing the null report to examine if there are still any in 'Community Area'\n",
    "crime_df.isna().sum()"
   ]
  },
  {
   "cell_type": "markdown",
   "id": "7f7151a6",
   "metadata": {},
   "source": [
    "**There are no missing values in 'Community Area'. Moving forward with 'District' null values in the dataframe.**"
   ]
  },
  {
   "cell_type": "code",
   "execution_count": 20,
   "id": "59ecfeef",
   "metadata": {},
   "outputs": [],
   "source": [
    "#Making a helper function to generate histograms with measures of central tendency\n",
    "\n",
    "def histogram_helper(col):\n",
    "    \n",
    "    plt.figure()\n",
    "    plt.hist(crime_df[col],bins = 25,color = 'grey')\n",
    "    plt.xlabel(col)\n",
    "    plt.axvline(crime_df[col].mean(),label = \"mean\",color = \"red\")\n",
    "    plt.axvline(crime_df[col].median(),label = \"median\",color = \"blue\")\n",
    "    plt.axvline(crime_df[col].mode()[0],label = \"mode\",color = \"black\")\n",
    "    plt.legend()\n",
    "    plt.title(f\"histogram of {col}\")\n",
    "    plt.show()\n",
    "    \n",
    "    print(\"-\"*80)\n",
    "    print(f\"mean {crime_df[col].mean()}\")\n",
    "    print(f\"median {crime_df[col].median()}\")\n",
    "    print(f\"mode {crime_df[col].mode()[0]}\")"
   ]
  },
  {
   "cell_type": "code",
   "execution_count": 21,
   "id": "3062ddf2",
   "metadata": {},
   "outputs": [
    {
     "data": {
      "image/png": "[encoded data removed]",
      "text/plain": [
       "<Figure size 640x480 with 1 Axes>"
      ]
     },
     "metadata": {},
     "output_type": "display_data"
    },
    {
     "name": "stdout",
     "output_type": "stream",
     "text": [
      "--------------------------------------------------------------------------------\n",
      "mean 11.294570993159898\n",
      "median 10.0\n",
      "mode 8.0\n"
     ]
    }
   ],
   "source": [
    "#Running a historgram for 'District'\n",
    "histogram_helper('District')"
   ]
  },
  {
   "cell_type": "code",
   "execution_count": 22,
   "id": "a1ebec83",
   "metadata": {},
   "outputs": [],
   "source": [
    "# Going to use mode.\n",
    "#The most common value \n",
    "\n",
    "crime_df.loc[crime_df['District'].isna(),'District'] = \\\n",
    "crime_df['District'].fillna(crime_df['District'].mode()[0])"
   ]
  },
  {
   "cell_type": "code",
   "execution_count": 23,
   "id": "ed96386f",
   "metadata": {},
   "outputs": [
    {
     "data": {
      "text/plain": [
       "ID                          0\n",
       "Case Number                 4\n",
       "Date                        0\n",
       "Block                       0\n",
       "IUCR                        0\n",
       "Primary Type                0\n",
       "Description                 0\n",
       "Location Description    10093\n",
       "Arrest                      0\n",
       "Domestic                    0\n",
       "Beat                        0\n",
       "District                    0\n",
       "Ward                        0\n",
       "Community Area              0\n",
       "FBI Code                    0\n",
       "X Coordinate            85036\n",
       "Y Coordinate            85036\n",
       "Year                        0\n",
       "Updated On                  0\n",
       "Latitude                85036\n",
       "Longitude               85036\n",
       "Location                85036\n",
       "dtype: int64"
      ]
     },
     "execution_count": 23,
     "metadata": {},
     "output_type": "execute_result"
    }
   ],
   "source": [
    "#Doing the null report to examine if there are still any in 'District'\n",
    "crime_df.isna().sum()"
   ]
  },
  {
   "cell_type": "markdown",
   "id": "13de6bbe",
   "metadata": {},
   "source": [
    "**There are no missing values in 'District'. There are (7) more columns with null values.\n",
    "\n",
    "The Plan: \n",
    "\n",
    "- Since 'Case Number' has only (4) rows with null values, I will remove them. \n",
    "-  For 'Latitude','Longitude', 'X and Y Coordinate', and 'Location' median, mean, or mode cannot be used to replace null values. Unique addresses need to be added manually. In this case, these will be filled in with 0.\n",
    "- 'Location Description' since it is categorical, will be filled in with 'Unknown.'"
   ]
  },
  {
   "cell_type": "code",
   "execution_count": 24,
   "id": "b4f26b3f",
   "metadata": {},
   "outputs": [],
   "source": [
    "#Removing the 4 rows where there were null values in 'Case Number'\n",
    "crime_df.dropna(subset=['Case Number'], how='all', inplace=True)"
   ]
  },
  {
   "cell_type": "code",
   "execution_count": 25,
   "id": "dbefb6c6",
   "metadata": {},
   "outputs": [
    {
     "data": {
      "text/plain": [
       "ID                          0\n",
       "Case Number                 0\n",
       "Date                        0\n",
       "Block                       0\n",
       "IUCR                        0\n",
       "Primary Type                0\n",
       "Description                 0\n",
       "Location Description    10093\n",
       "Arrest                      0\n",
       "Domestic                    0\n",
       "Beat                        0\n",
       "District                    0\n",
       "Ward                        0\n",
       "Community Area              0\n",
       "FBI Code                    0\n",
       "X Coordinate            85035\n",
       "Y Coordinate            85035\n",
       "Year                        0\n",
       "Updated On                  0\n",
       "Latitude                85035\n",
       "Longitude               85035\n",
       "Location                85035\n",
       "dtype: int64"
      ]
     },
     "execution_count": 25,
     "metadata": {},
     "output_type": "execute_result"
    }
   ],
   "source": [
    "#Sanity check; (6) more rows left with null values.\n",
    "crime_df.isna().sum()"
   ]
  },
  {
   "cell_type": "code",
   "execution_count": 26,
   "id": "8efe024f",
   "metadata": {},
   "outputs": [
    {
     "data": {
      "text/plain": [
       "7651006"
      ]
     },
     "execution_count": 26,
     "metadata": {},
     "output_type": "execute_result"
    }
   ],
   "source": [
    "#How many rows would we have left if we dropped all rows with any nulls\n",
    "crime_df.dropna(axis = 0, how = 'any').shape[0]"
   ]
  },
  {
   "cell_type": "markdown",
   "id": "8f53f525",
   "metadata": {},
   "source": [
    "**There would be a loss of 91,470 rows if we dropped all rows missing any data. That is a lot. Will continue imputing.**"
   ]
  },
  {
   "cell_type": "code",
   "execution_count": 27,
   "id": "3927f50e",
   "metadata": {},
   "outputs": [
    {
     "data": {
      "image/png": "[encoded data removed]",
      "text/plain": [
       "<Figure size 640x480 with 1 Axes>"
      ]
     },
     "metadata": {},
     "output_type": "display_data"
    }
   ],
   "source": [
    "for col in ['Location Description']:\n",
    "    \n",
    "    plt.figure()\n",
    "    crime_df[col].value_counts()[:15].plot(kind = 'barh',title = col, color = 'cornflowerblue')\n",
    "    plt.show()"
   ]
  },
  {
   "cell_type": "markdown",
   "id": "7d850448",
   "metadata": {},
   "source": [
    "**'Location Description' is an object datatype. Null values will be put into an unknown category.**"
   ]
  },
  {
   "cell_type": "code",
   "execution_count": 28,
   "id": "93c19034",
   "metadata": {},
   "outputs": [],
   "source": [
    "#Put the nulls into an unknown category for 'Location Description'\n",
    "\n",
    "for col in ['Location Description']:\n",
    "    \n",
    "    crime_df[col].fillna('unknown',inplace = True)"
   ]
  },
  {
   "cell_type": "code",
   "execution_count": 29,
   "id": "e167aa14",
   "metadata": {},
   "outputs": [
    {
     "data": {
      "text/plain": [
       "ID                          0\n",
       "Case Number                 0\n",
       "Date                        0\n",
       "Block                       0\n",
       "IUCR                        0\n",
       "Primary Type                0\n",
       "Description                 0\n",
       "Location Description        0\n",
       "Arrest                      0\n",
       "Domestic                    0\n",
       "Beat                        0\n",
       "District                    0\n",
       "Ward                        0\n",
       "Community Area              0\n",
       "FBI Code                    0\n",
       "X Coordinate            85035\n",
       "Y Coordinate            85035\n",
       "Year                        0\n",
       "Updated On                  0\n",
       "Latitude                85035\n",
       "Longitude               85035\n",
       "Location                85035\n",
       "dtype: int64"
      ]
     },
     "execution_count": 29,
     "metadata": {},
     "output_type": "execute_result"
    }
   ],
   "source": [
    "#Sanity check \n",
    "crime_df.isna().sum()"
   ]
  },
  {
   "cell_type": "markdown",
   "id": "175c71d6",
   "metadata": {},
   "source": [
    "**There are (5) columns left with NaN/null values. Filling in X and Y Coordinate, Latitude, Logitude, and Location with 0.**"
   ]
  },
  {
   "cell_type": "code",
   "execution_count": 30,
   "id": "234719d6",
   "metadata": {},
   "outputs": [],
   "source": [
    "crime_df['X Coordinate'] = crime_df['X Coordinate'].fillna(0)"
   ]
  },
  {
   "cell_type": "code",
   "execution_count": 31,
   "id": "7e1e9567",
   "metadata": {},
   "outputs": [],
   "source": [
    "crime_df['Y Coordinate'] = crime_df['Y Coordinate'].fillna(0)"
   ]
  },
  {
   "cell_type": "code",
   "execution_count": 32,
   "id": "f378c02b",
   "metadata": {},
   "outputs": [],
   "source": [
    "crime_df['Latitude'] = crime_df['Latitude'].fillna(0)"
   ]
  },
  {
   "cell_type": "code",
   "execution_count": 33,
   "id": "016579f2",
   "metadata": {},
   "outputs": [],
   "source": [
    "crime_df['Longitude'] = crime_df['Longitude'].fillna(0)"
   ]
  },
  {
   "cell_type": "code",
   "execution_count": 34,
   "id": "ff756c2d",
   "metadata": {},
   "outputs": [],
   "source": [
    "crime_df['Location'] = crime_df['Location'].fillna(0)"
   ]
  },
  {
   "cell_type": "code",
   "execution_count": 35,
   "id": "f7d852a0",
   "metadata": {},
   "outputs": [
    {
     "data": {
      "text/plain": [
       "ID                      0\n",
       "Case Number             0\n",
       "Date                    0\n",
       "Block                   0\n",
       "IUCR                    0\n",
       "Primary Type            0\n",
       "Description             0\n",
       "Location Description    0\n",
       "Arrest                  0\n",
       "Domestic                0\n",
       "Beat                    0\n",
       "District                0\n",
       "Ward                    0\n",
       "Community Area          0\n",
       "FBI Code                0\n",
       "X Coordinate            0\n",
       "Y Coordinate            0\n",
       "Year                    0\n",
       "Updated On              0\n",
       "Latitude                0\n",
       "Longitude               0\n",
       "Location                0\n",
       "dtype: int64"
      ]
     },
     "execution_count": 35,
     "metadata": {},
     "output_type": "execute_result"
    }
   ],
   "source": [
    "#Checking the sum of null values in the dataframe.\n",
    "crime_df.isna().sum()"
   ]
  },
  {
   "cell_type": "markdown",
   "id": "629d886e",
   "metadata": {},
   "source": [
    "**In Summary**\n",
    "\n",
    "1. Columns were checked for duplicate data.\n",
    "2. Null values were dealt with appropiately using various imputation methods. \n",
    "\n",
    "Next steps, data exploration and analysis, specifically:\n",
    "\n",
    "- Convert 'Date' column to 'datetime' format. Take a look at the column data, and gather some intital insight. \n",
    "- Pick a few numerical & a few categorical columns and determine what data they are storing and distribution.\n",
    "- Analyze patterns and trends within the columns. "
   ]
  },
  {
   "cell_type": "code",
   "execution_count": 36,
   "id": "275dcd0d",
   "metadata": {},
   "outputs": [
    {
     "data": {
      "text/plain": [
       "array(['09/05/2015 01:30:00 PM', '09/04/2015 11:30:00 AM',\n",
       "       '09/01/2018 12:01:00 AM', ..., '12/23/2022 08:41:00 AM',\n",
       "       '06/27/2022 10:05:00 AM', '12/20/2022 06:45:00 AM'], dtype=object)"
      ]
     },
     "execution_count": 36,
     "metadata": {},
     "output_type": "execute_result"
    }
   ],
   "source": [
    "#'Date' is an object. Will be converting this to 'datetime' format.\n",
    "crime_df['Date'].unique()"
   ]
  },
  {
   "cell_type": "code",
   "execution_count": 37,
   "id": "428b9ecd",
   "metadata": {},
   "outputs": [],
   "source": [
    "# Converting 'Date' column to datatime format\n",
    "crime_df['Date'] = pd.to_datetime(crime_df['Date'])"
   ]
  },
  {
   "cell_type": "code",
   "execution_count": 38,
   "id": "b57f1f4a",
   "metadata": {},
   "outputs": [
    {
     "name": "stdout",
     "output_type": "stream",
     "text": [
      "<class 'pandas.core.frame.DataFrame'>\n",
      "Int64Index: 7742472 entries, 0 to 7742475\n",
      "Data columns (total 22 columns):\n",
      " #   Column                Dtype         \n",
      "---  ------                -----         \n",
      " 0   ID                    int64         \n",
      " 1   Case Number           object        \n",
      " 2   Date                  datetime64[ns]\n",
      " 3   Block                 object        \n",
      " 4   IUCR                  object        \n",
      " 5   Primary Type          object        \n",
      " 6   Description           object        \n",
      " 7   Location Description  object        \n",
      " 8   Arrest                bool          \n",
      " 9   Domestic              bool          \n",
      " 10  Beat                  int64         \n",
      " 11  District              float64       \n",
      " 12  Ward                  float64       \n",
      " 13  Community Area        float64       \n",
      " 14  FBI Code              object        \n",
      " 15  X Coordinate          float64       \n",
      " 16  Y Coordinate          float64       \n",
      " 17  Year                  int64         \n",
      " 18  Updated On            object        \n",
      " 19  Latitude              float64       \n",
      " 20  Longitude             float64       \n",
      " 21  Location              object        \n",
      "dtypes: bool(2), datetime64[ns](1), float64(7), int64(3), object(9)\n",
      "memory usage: 1.2+ GB\n"
     ]
    }
   ],
   "source": [
    "#Sanity Check \n",
    "crime_df.info()"
   ]
  },
  {
   "cell_type": "code",
   "execution_count": 39,
   "id": "415ae81d",
   "metadata": {},
   "outputs": [
    {
     "data": {
      "text/html": [
       "<div>\n",
       "<style scoped>\n",
       "    .dataframe tbody tr th:only-of-type {\n",
       "        vertical-align: middle;\n",
       "    }\n",
       "\n",
       "    .dataframe tbody tr th {\n",
       "        vertical-align: top;\n",
       "    }\n",
       "\n",
       "    .dataframe thead th {\n",
       "        text-align: right;\n",
       "    }\n",
       "</style>\n",
       "<table border=\"1\" class=\"dataframe\">\n",
       "  <thead>\n",
       "    <tr style=\"text-align: right;\">\n",
       "      <th></th>\n",
       "      <th>ID</th>\n",
       "      <th>Case Number</th>\n",
       "      <th>Date</th>\n",
       "      <th>Block</th>\n",
       "      <th>IUCR</th>\n",
       "      <th>Primary Type</th>\n",
       "      <th>Description</th>\n",
       "      <th>Location Description</th>\n",
       "      <th>Arrest</th>\n",
       "      <th>Domestic</th>\n",
       "      <th>...</th>\n",
       "      <th>Ward</th>\n",
       "      <th>Community Area</th>\n",
       "      <th>FBI Code</th>\n",
       "      <th>X Coordinate</th>\n",
       "      <th>Y Coordinate</th>\n",
       "      <th>Year</th>\n",
       "      <th>Updated On</th>\n",
       "      <th>Latitude</th>\n",
       "      <th>Longitude</th>\n",
       "      <th>Location</th>\n",
       "    </tr>\n",
       "  </thead>\n",
       "  <tbody>\n",
       "    <tr>\n",
       "      <th>0</th>\n",
       "      <td>10224738</td>\n",
       "      <td>HY411648</td>\n",
       "      <td>2015-09-05 13:30:00</td>\n",
       "      <td>043XX S WOOD ST</td>\n",
       "      <td>0486</td>\n",
       "      <td>BATTERY</td>\n",
       "      <td>DOMESTIC BATTERY SIMPLE</td>\n",
       "      <td>RESIDENCE</td>\n",
       "      <td>False</td>\n",
       "      <td>True</td>\n",
       "      <td>...</td>\n",
       "      <td>12.0</td>\n",
       "      <td>61.0</td>\n",
       "      <td>08B</td>\n",
       "      <td>1165074.0</td>\n",
       "      <td>1875917.0</td>\n",
       "      <td>2015</td>\n",
       "      <td>02/10/2018 03:50:01 PM</td>\n",
       "      <td>41.815117</td>\n",
       "      <td>-87.670000</td>\n",
       "      <td>(41.815117282, -87.669999562)</td>\n",
       "    </tr>\n",
       "    <tr>\n",
       "      <th>1</th>\n",
       "      <td>10224739</td>\n",
       "      <td>HY411615</td>\n",
       "      <td>2015-09-04 11:30:00</td>\n",
       "      <td>008XX N CENTRAL AVE</td>\n",
       "      <td>0870</td>\n",
       "      <td>THEFT</td>\n",
       "      <td>POCKET-PICKING</td>\n",
       "      <td>CTA BUS</td>\n",
       "      <td>False</td>\n",
       "      <td>False</td>\n",
       "      <td>...</td>\n",
       "      <td>29.0</td>\n",
       "      <td>25.0</td>\n",
       "      <td>06</td>\n",
       "      <td>1138875.0</td>\n",
       "      <td>1904869.0</td>\n",
       "      <td>2015</td>\n",
       "      <td>02/10/2018 03:50:01 PM</td>\n",
       "      <td>41.895080</td>\n",
       "      <td>-87.765400</td>\n",
       "      <td>(41.895080471, -87.765400451)</td>\n",
       "    </tr>\n",
       "    <tr>\n",
       "      <th>2</th>\n",
       "      <td>11646166</td>\n",
       "      <td>JC213529</td>\n",
       "      <td>2018-09-01 00:01:00</td>\n",
       "      <td>082XX S INGLESIDE AVE</td>\n",
       "      <td>0810</td>\n",
       "      <td>THEFT</td>\n",
       "      <td>OVER $500</td>\n",
       "      <td>RESIDENCE</td>\n",
       "      <td>False</td>\n",
       "      <td>True</td>\n",
       "      <td>...</td>\n",
       "      <td>8.0</td>\n",
       "      <td>44.0</td>\n",
       "      <td>06</td>\n",
       "      <td>0.0</td>\n",
       "      <td>0.0</td>\n",
       "      <td>2018</td>\n",
       "      <td>04/06/2019 04:04:43 PM</td>\n",
       "      <td>0.000000</td>\n",
       "      <td>0.000000</td>\n",
       "      <td>0</td>\n",
       "    </tr>\n",
       "    <tr>\n",
       "      <th>3</th>\n",
       "      <td>10224740</td>\n",
       "      <td>HY411595</td>\n",
       "      <td>2015-09-05 12:45:00</td>\n",
       "      <td>035XX W BARRY AVE</td>\n",
       "      <td>2023</td>\n",
       "      <td>NARCOTICS</td>\n",
       "      <td>POSS: HEROIN(BRN/TAN)</td>\n",
       "      <td>SIDEWALK</td>\n",
       "      <td>True</td>\n",
       "      <td>False</td>\n",
       "      <td>...</td>\n",
       "      <td>35.0</td>\n",
       "      <td>21.0</td>\n",
       "      <td>18</td>\n",
       "      <td>1152037.0</td>\n",
       "      <td>1920384.0</td>\n",
       "      <td>2015</td>\n",
       "      <td>02/10/2018 03:50:01 PM</td>\n",
       "      <td>41.937406</td>\n",
       "      <td>-87.716650</td>\n",
       "      <td>(41.937405765, -87.716649687)</td>\n",
       "    </tr>\n",
       "    <tr>\n",
       "      <th>4</th>\n",
       "      <td>10224741</td>\n",
       "      <td>HY411610</td>\n",
       "      <td>2015-09-05 13:00:00</td>\n",
       "      <td>0000X N LARAMIE AVE</td>\n",
       "      <td>0560</td>\n",
       "      <td>ASSAULT</td>\n",
       "      <td>SIMPLE</td>\n",
       "      <td>APARTMENT</td>\n",
       "      <td>False</td>\n",
       "      <td>True</td>\n",
       "      <td>...</td>\n",
       "      <td>28.0</td>\n",
       "      <td>25.0</td>\n",
       "      <td>08A</td>\n",
       "      <td>1141706.0</td>\n",
       "      <td>1900086.0</td>\n",
       "      <td>2015</td>\n",
       "      <td>02/10/2018 03:50:01 PM</td>\n",
       "      <td>41.881903</td>\n",
       "      <td>-87.755121</td>\n",
       "      <td>(41.881903443, -87.755121152)</td>\n",
       "    </tr>\n",
       "  </tbody>\n",
       "</table>\n",
       "<p>5 rows × 22 columns</p>\n",
       "</div>"
      ],
      "text/plain": [
       "         ID Case Number                Date                  Block  IUCR  \\\n",
       "0  10224738    HY411648 2015-09-05 13:30:00        043XX S WOOD ST  0486   \n",
       "1  10224739    HY411615 2015-09-04 11:30:00    008XX N CENTRAL AVE  0870   \n",
       "2  11646166    JC213529 2018-09-01 00:01:00  082XX S INGLESIDE AVE  0810   \n",
       "3  10224740    HY411595 2015-09-05 12:45:00      035XX W BARRY AVE  2023   \n",
       "4  10224741    HY411610 2015-09-05 13:00:00    0000X N LARAMIE AVE  0560   \n",
       "\n",
       "  Primary Type              Description Location Description  Arrest  \\\n",
       "0      BATTERY  DOMESTIC BATTERY SIMPLE            RESIDENCE   False   \n",
       "1        THEFT           POCKET-PICKING              CTA BUS   False   \n",
       "2        THEFT                OVER $500            RESIDENCE   False   \n",
       "3    NARCOTICS    POSS: HEROIN(BRN/TAN)             SIDEWALK    True   \n",
       "4      ASSAULT                   SIMPLE            APARTMENT   False   \n",
       "\n",
       "   Domestic  ...  Ward  Community Area  FBI Code  X Coordinate Y Coordinate  \\\n",
       "0      True  ...  12.0            61.0       08B     1165074.0    1875917.0   \n",
       "1     False  ...  29.0            25.0        06     1138875.0    1904869.0   \n",
       "2      True  ...   8.0            44.0        06           0.0          0.0   \n",
       "3     False  ...  35.0            21.0        18     1152037.0    1920384.0   \n",
       "4      True  ...  28.0            25.0       08A     1141706.0    1900086.0   \n",
       "\n",
       "   Year              Updated On   Latitude  Longitude  \\\n",
       "0  2015  02/10/2018 03:50:01 PM  41.815117 -87.670000   \n",
       "1  2015  02/10/2018 03:50:01 PM  41.895080 -87.765400   \n",
       "2  2018  04/06/2019 04:04:43 PM   0.000000   0.000000   \n",
       "3  2015  02/10/2018 03:50:01 PM  41.937406 -87.716650   \n",
       "4  2015  02/10/2018 03:50:01 PM  41.881903 -87.755121   \n",
       "\n",
       "                        Location  \n",
       "0  (41.815117282, -87.669999562)  \n",
       "1  (41.895080471, -87.765400451)  \n",
       "2                              0  \n",
       "3  (41.937405765, -87.716649687)  \n",
       "4  (41.881903443, -87.755121152)  \n",
       "\n",
       "[5 rows x 22 columns]"
      ]
     },
     "execution_count": 39,
     "metadata": {},
     "output_type": "execute_result"
    }
   ],
   "source": [
    "crime_df.head()"
   ]
  },
  {
   "cell_type": "code",
   "execution_count": 40,
   "id": "ab6af53f",
   "metadata": {},
   "outputs": [
    {
     "data": {
      "text/plain": [
       "0         2015-09-05 13:30:00\n",
       "1         2015-09-04 11:30:00\n",
       "2         2018-09-01 00:01:00\n",
       "3         2015-09-05 12:45:00\n",
       "4         2015-09-05 13:00:00\n",
       "                  ...        \n",
       "7742471   2022-06-27 10:05:00\n",
       "7742472   2022-12-22 18:00:00\n",
       "7742473   2022-12-26 22:30:00\n",
       "7742474   2022-12-19 14:00:00\n",
       "7742475   2022-12-20 06:45:00\n",
       "Name: Date, Length: 7742472, dtype: datetime64[ns]"
      ]
     },
     "execution_count": 40,
     "metadata": {},
     "output_type": "execute_result"
    }
   ],
   "source": [
    "#Gaining information on the columnn.\n",
    "crime_df['Date']"
   ]
  },
  {
   "cell_type": "code",
   "execution_count": 41,
   "id": "3ef27d5f",
   "metadata": {},
   "outputs": [
    {
     "data": {
      "text/plain": [
       "2008-01-01 00:01:00    303\n",
       "2007-01-01 00:01:00    257\n",
       "2006-01-01 00:01:00    226\n",
       "2004-01-01 00:00:00    218\n",
       "2005-01-01 00:01:00    214\n",
       "                      ... \n",
       "2005-02-26 06:04:53      1\n",
       "2005-02-27 08:30:00      1\n",
       "2005-02-26 21:56:53      1\n",
       "2005-02-27 03:20:00      1\n",
       "2022-12-20 06:45:00      1\n",
       "Name: Date, Length: 3187378, dtype: int64"
      ]
     },
     "execution_count": 41,
     "metadata": {},
     "output_type": "execute_result"
    }
   ],
   "source": [
    "crime_df['Date'].value_counts()"
   ]
  },
  {
   "cell_type": "markdown",
   "id": "199262e5",
   "metadata": {},
   "source": [
    "**Initial observation looking at the value counts of 'Date', it is clear that New Year's Eve/Day in the morning hours sees a high amount of incidents between the years of (2004 - 2008).** "
   ]
  },
  {
   "cell_type": "code",
   "execution_count": 42,
   "id": "bd975c2c",
   "metadata": {},
   "outputs": [
    {
     "data": {
      "text/plain": [
       "array([ 9., 15.,  6., 14., 10., 12.,  8., 16.,  5.,  2.,  4., 22.,  3.,\n",
       "        1.,  7., 11., 17., 20., 25., 18., 19., 24., 31., 21.])"
      ]
     },
     "execution_count": 42,
     "metadata": {},
     "output_type": "execute_result"
    }
   ],
   "source": [
    "crime_df['District'].unique()"
   ]
  },
  {
   "cell_type": "markdown",
   "id": "a5f5b17c",
   "metadata": {},
   "source": [
    "**The 'District' column does exist even though it is not clear in our initial dataframe head.** "
   ]
  },
  {
   "cell_type": "code",
   "execution_count": 43,
   "id": "728d0243",
   "metadata": {},
   "outputs": [
    {
     "data": {
      "text/plain": [
       "8.0     520545\n",
       "11.0    497339\n",
       "6.0     452550\n",
       "7.0     448535\n",
       "25.0    440644\n",
       "4.0     439606\n",
       "3.0     392705\n",
       "12.0    383116\n",
       "9.0     378546\n",
       "2.0     366335\n",
       "19.0    347278\n",
       "18.0    347164\n",
       "5.0     343352\n",
       "10.0    333562\n",
       "15.0    332372\n",
       "1.0     312334\n",
       "14.0    299742\n",
       "16.0    258855\n",
       "22.0    253760\n",
       "24.0    233698\n",
       "17.0    223435\n",
       "20.0    136763\n",
       "31.0       232\n",
       "21.0         4\n",
       "Name: District, dtype: int64"
      ]
     },
     "execution_count": 43,
     "metadata": {},
     "output_type": "execute_result"
    }
   ],
   "source": [
    "crime_df['District'].value_counts()"
   ]
  },
  {
   "cell_type": "markdown",
   "id": "37efe779",
   "metadata": {},
   "source": [
    "## Understanding the Data\n",
    "\n",
    "Looking at the (numerical columns) of 'Year','Ward', and 'Community Area' as well the (categorical columns) of 'Domestic', 'Arrest', and 'Location Description.'\n",
    "\n",
    "**The Objective** - \n",
    "\n",
    "- Gain insights on how the data is distributed and what information they are telling.\n",
    "- Gain an understanding of any patterns or trends that may be occuring. \n",
    "- Starting with the numerical first and then digging into the categorical. \n",
    "\n",
    "\n",
    "- 'Year'- (Year the incident test occured.)\n",
    "- 'Community Area'- (Indicates the community area where the incident occured.)\n",
    "- 'Ward'- (Week that the WNV test is performed.)\n",
    "- 'Domestic'- (Indicates whether the incident was domestic related as defined by the Illinois Domestic Violence Act.)\n",
    "- 'Arrest'- (Indicates whether an arrest was made.)\n",
    "- 'Location Description' - (Description of the location where the incident occured.)"
   ]
  },
  {
   "cell_type": "code",
   "execution_count": 44,
   "id": "17377be8",
   "metadata": {},
   "outputs": [
    {
     "data": {
      "text/plain": [
       "0          2015\n",
       "1          2015\n",
       "2          2018\n",
       "3          2015\n",
       "4          2015\n",
       "           ... \n",
       "7742471    2022\n",
       "7742472    2022\n",
       "7742473    2022\n",
       "7742474    2022\n",
       "7742475    2022\n",
       "Name: Year, Length: 7742472, dtype: int64"
      ]
     },
     "execution_count": 44,
     "metadata": {},
     "output_type": "execute_result"
    }
   ],
   "source": [
    "#Gaining information on the column. \n",
    "crime_df['Year']"
   ]
  },
  {
   "cell_type": "code",
   "execution_count": 45,
   "id": "063a2b22",
   "metadata": {},
   "outputs": [
    {
     "data": {
      "text/plain": [
       "2001    485872\n",
       "2002    486800\n",
       "2003    475979\n",
       "2004    469420\n",
       "2005    453768\n",
       "2006    448174\n",
       "2007    437081\n",
       "2008    427159\n",
       "2009    392814\n",
       "2010    370491\n",
       "2011    351959\n",
       "2012    336256\n",
       "2013    307458\n",
       "2014    275723\n",
       "2015    264736\n",
       "2016    269775\n",
       "2017    269043\n",
       "2018    268743\n",
       "2019    261211\n",
       "2020    212035\n",
       "2021    208427\n",
       "2022    237079\n",
       "2023     32469\n",
       "Name: Year, dtype: int64"
      ]
     },
     "execution_count": 45,
     "metadata": {},
     "output_type": "execute_result"
    }
   ],
   "source": [
    "#Gaining information on how many incidents occured in the 'Year.'\n",
    "#Incidents occured in descending order from year.\n",
    "crime_df['Year'].value_counts().sort_index()"
   ]
  },
  {
   "cell_type": "code",
   "execution_count": 46,
   "id": "c932041e",
   "metadata": {
    "scrolled": true
   },
   "outputs": [
    {
     "data": {
      "image/png": "[encoded data removed]",
      "text/plain": [
       "<Figure size 1000x1000 with 1 Axes>"
      ]
     },
     "metadata": {},
     "output_type": "display_data"
    }
   ],
   "source": [
    "#Plotting a visualization for representation. \n",
    "plt.figure(figsize = (10,10))\n",
    "crime_df['Year'].value_counts().sort_index().plot(kind='bar', color = 'cornflowerblue')\n",
    "plt.xlabel('Year')\n",
    "plt.ylabel('Number of Incidents in Chicago')\n",
    "plt.title('Total Count of Incidents by Year')\n",
    "plt.xticks(rotation=45)\n",
    "plt.show()"
   ]
  },
  {
   "cell_type": "markdown",
   "id": "8ea87dae",
   "metadata": {},
   "source": [
    "## 'Year' Insights:\n",
    "\n",
    "- 2002 saw the highest number of incidents with (486,800).\n",
    "- 2021 saw the lowest number of incidents with (208,427).\n",
    "- There seems to be a downward trend in incidents after the year 2002.\n",
    "- Between the years (2015 - 2018), incidents hovered between (264,000) - (269,000).\n",
    "- There were (3) increases in incidents: \n",
    "\n",
    "\n",
    "    - (2001) - (2002) - saw an increase in incidents. (928) to be exact. \n",
    "    - (2015) - (2016) - saw an increase in incidents. (5,039) to be exact.\n",
    "    - (2021) - (2022) - saw an increase in incidents. (28,652) to be exact.\n",
    "\n",
    "- After 2016, incidents deacrease until the year 2022 where there is an increase."
   ]
  },
  {
   "cell_type": "code",
   "execution_count": 47,
   "id": "c3530d7d",
   "metadata": {},
   "outputs": [
    {
     "data": {
      "text/plain": [
       "0          12.0\n",
       "1          29.0\n",
       "2           8.0\n",
       "3          35.0\n",
       "4          28.0\n",
       "           ... \n",
       "7742471    43.0\n",
       "7742472    32.0\n",
       "7742473    50.0\n",
       "7742474    47.0\n",
       "7742475    28.0\n",
       "Name: Ward, Length: 7742472, dtype: float64"
      ]
     },
     "execution_count": 47,
     "metadata": {},
     "output_type": "execute_result"
    }
   ],
   "source": [
    "#Gaining information on the columnn. \n",
    "crime_df['Ward']"
   ]
  },
  {
   "cell_type": "code",
   "execution_count": 48,
   "id": "3fb082e2",
   "metadata": {
    "scrolled": true
   },
   "outputs": [
    {
     "data": {
      "text/plain": [
       "1.0     136290\n",
       "2.0     254418\n",
       "3.0     217450\n",
       "4.0     141736\n",
       "5.0     170758\n",
       "6.0     235531\n",
       "7.0     193380\n",
       "8.0     196832\n",
       "9.0     184561\n",
       "10.0    121146\n",
       "11.0     97047\n",
       "12.0     86965\n",
       "13.0     87642\n",
       "14.0     95855\n",
       "15.0    184745\n",
       "16.0    204938\n",
       "17.0    235956\n",
       "18.0    117594\n",
       "19.0     63265\n",
       "20.0    233875\n",
       "21.0    215884\n",
       "22.0     83174\n",
       "23.0    705563\n",
       "24.0    280288\n",
       "25.0    103631\n",
       "26.0    120927\n",
       "27.0    268039\n",
       "28.0    326987\n",
       "29.0    165825\n",
       "30.0     96954\n",
       "31.0     97672\n",
       "32.0    117690\n",
       "33.0     70762\n",
       "34.0    199979\n",
       "35.0     93124\n",
       "36.0     75165\n",
       "37.0    192731\n",
       "38.0     74331\n",
       "39.0     66949\n",
       "40.0     75404\n",
       "41.0     75438\n",
       "42.0    296545\n",
       "43.0     89300\n",
       "44.0     99422\n",
       "45.0     72938\n",
       "46.0     95848\n",
       "47.0     74020\n",
       "48.0     72097\n",
       "49.0    102115\n",
       "50.0     73686\n",
       "Name: Ward, dtype: int64"
      ]
     },
     "execution_count": 48,
     "metadata": {},
     "output_type": "execute_result"
    }
   ],
   "source": [
    "#Gaining information on how many incidents occured in the 'Ward.'\n",
    "#Incidents occured in descending order from ward.\n",
    "crime_df['Ward'].value_counts().sort_index()"
   ]
  },
  {
   "cell_type": "code",
   "execution_count": 49,
   "id": "72d5c74e",
   "metadata": {
    "scrolled": true
   },
   "outputs": [
    {
     "data": {
      "image/png": "[encoded data removed]",
      "text/plain": [
       "<Figure size 2000x2000 with 1 Axes>"
      ]
     },
     "metadata": {},
     "output_type": "display_data"
    }
   ],
   "source": [
    "#Plotting a visualization for representation. \n",
    "plt.figure(figsize = (20,20))\n",
    "crime_df['Ward'].value_counts().sort_index().plot(kind='barh', color = 'cornflowerblue')\n",
    "plt.xlabel('Ward')\n",
    "plt.ylabel('Number of Incidents in Ward')\n",
    "plt.title('Total Count of Incidents by Ward')\n",
    "plt.xticks(rotation=0)\n",
    "plt.show()"
   ]
  },
  {
   "cell_type": "markdown",
   "id": "54072eb0",
   "metadata": {},
   "source": [
    "## 'Ward' Insights: \n",
    "\n",
    "- Ward 23 has the highest number of incidents with (705,563)\n",
    "- Ward 28 has the second highest number of incidents with (326,987).\n",
    "- Ward 19 has the lowest number of incidents with (63,265).\n",
    "- Of the (50) wards in Chicago, only (22) have 5-digit incidents. That is 44% of the wards. \n",
    "- Ward 28 is the 'West Garfield Park' neighborhood. Located in the city's 'west side.'\n",
    "- Ward 19 is the 'Beverly'or 'Beverly Hills' neighborhood. It is located in the city's far 'south side.' "
   ]
  },
  {
   "cell_type": "code",
   "execution_count": 67,
   "id": "57222d90",
   "metadata": {},
   "outputs": [
    {
     "data": {
      "text/plain": [
       "0          61.0\n",
       "1          25.0\n",
       "2          44.0\n",
       "3          21.0\n",
       "4          25.0\n",
       "           ... \n",
       "7742471     7.0\n",
       "7742472     5.0\n",
       "7742473     2.0\n",
       "7742474     4.0\n",
       "7742475    29.0\n",
       "Name: Community Area, Length: 7742472, dtype: float64"
      ]
     },
     "execution_count": 67,
     "metadata": {},
     "output_type": "execute_result"
    }
   ],
   "source": [
    "#Gaining information on the columnn. \n",
    "crime_df['Community Area']"
   ]
  },
  {
   "cell_type": "code",
   "execution_count": 51,
   "id": "28f81ea4",
   "metadata": {},
   "outputs": [
    {
     "data": {
      "text/plain": [
       "25.0    1059670\n",
       "8.0      251002\n",
       "43.0     235048\n",
       "23.0     222908\n",
       "28.0     215343\n",
       "         ...   \n",
       "55.0      15745\n",
       "12.0      13256\n",
       "47.0      10673\n",
       "9.0        7077\n",
       "0.0          76\n",
       "Name: Community Area, Length: 78, dtype: int64"
      ]
     },
     "execution_count": 51,
     "metadata": {},
     "output_type": "execute_result"
    }
   ],
   "source": [
    "crime_df['Community Area'].value_counts()"
   ]
  },
  {
   "cell_type": "code",
   "execution_count": 52,
   "id": "e6862eab",
   "metadata": {
    "scrolled": false
   },
   "outputs": [
    {
     "data": {
      "text/plain": [
       "0.0         76\n",
       "1.0     109922\n",
       "2.0      91119\n",
       "3.0     104347\n",
       "4.0      50957\n",
       "         ...  \n",
       "73.0     84876\n",
       "74.0     16015\n",
       "75.0     56853\n",
       "76.0     43236\n",
       "77.0     71305\n",
       "Name: Community Area, Length: 78, dtype: int64"
      ]
     },
     "execution_count": 52,
     "metadata": {},
     "output_type": "execute_result"
    }
   ],
   "source": [
    "#Gaining information on how many incidents occured in the 'Community Area'\n",
    "#Incidents occured in descending order from community area.\n",
    "crime_df['Community Area'].value_counts().sort_index()"
   ]
  },
  {
   "cell_type": "code",
   "execution_count": 53,
   "id": "bdc757b5",
   "metadata": {
    "scrolled": true
   },
   "outputs": [
    {
     "data": {
      "image/png": "[encoded data removed]",
      "text/plain": [
       "<Figure size 2000x2000 with 1 Axes>"
      ]
     },
     "metadata": {},
     "output_type": "display_data"
    }
   ],
   "source": [
    "#Plotting a visual for representation\n",
    "plt.figure(figsize = (20,20))\n",
    "crime_df['Community Area'].value_counts().sort_index().plot(kind='barh', color = 'cornflowerblue')\n",
    "plt.xlabel('Community Area')\n",
    "plt.ylabel('Number of Incidents in Community Area')\n",
    "plt.title('Total Count of Incidents by Community Area')\n",
    "plt.xticks(rotation=0)\n",
    "plt.show()"
   ]
  },
  {
   "cell_type": "markdown",
   "id": "367f1876",
   "metadata": {},
   "source": [
    "## 'Community Area' Insights: \n",
    "\n",
    "- Community Area 25 has the highest number of incidents with (1,059,670).\n",
    "- Community Area 9 has the lowest number of incidents with (7,077).\n",
    "- The community areas with the highest incidents are areas, **25, 8, 43, 23, and 28.**\n",
    "- The community areas with the lowest incidents are areas, **55, 12, 47, and 9.**\n",
    "- Community Area 25 is the 'Austin' neighborhood. Located in the city's 'west side.'\n",
    "- Community Area 9 is the 'Edison Park' neighborhood. It is located in the city's 'north side.' "
   ]
  },
  {
   "cell_type": "code",
   "execution_count": 54,
   "id": "abe54406",
   "metadata": {},
   "outputs": [
    {
     "data": {
      "text/plain": [
       "0           True\n",
       "1          False\n",
       "2           True\n",
       "3          False\n",
       "4           True\n",
       "           ...  \n",
       "7742471    False\n",
       "7742472    False\n",
       "7742473    False\n",
       "7742474    False\n",
       "7742475    False\n",
       "Name: Domestic, Length: 7742472, dtype: bool"
      ]
     },
     "execution_count": 54,
     "metadata": {},
     "output_type": "execute_result"
    }
   ],
   "source": [
    "#Gaining information on the columnn.\n",
    "crime_df['Domestic']"
   ]
  },
  {
   "cell_type": "code",
   "execution_count": 55,
   "id": "bfef4b0f",
   "metadata": {},
   "outputs": [
    {
     "data": {
      "text/plain": [
       "False    6673294\n",
       "True     1069178\n",
       "Name: Domestic, dtype: int64"
      ]
     },
     "execution_count": 55,
     "metadata": {},
     "output_type": "execute_result"
    }
   ],
   "source": [
    "#Gaining information on how many incidents occured that were 'Domestic'\n",
    "#Incidents are either are True or False\n",
    "crime_df['Domestic'].value_counts()"
   ]
  },
  {
   "cell_type": "code",
   "execution_count": 56,
   "id": "d544fcfc",
   "metadata": {},
   "outputs": [
    {
     "data": {
      "text/plain": [
       "False    86.190741\n",
       "True     13.809259\n",
       "Name: Domestic, dtype: float64"
      ]
     },
     "execution_count": 56,
     "metadata": {},
     "output_type": "execute_result"
    }
   ],
   "source": [
    "crime_df['Domestic'].value_counts()/crime_df.shape[0]*100"
   ]
  },
  {
   "cell_type": "code",
   "execution_count": 57,
   "id": "bac24ec8",
   "metadata": {},
   "outputs": [
    {
     "data": {
      "image/png": "[encoded data removed]",
      "text/plain": [
       "<Figure size 640x480 with 1 Axes>"
      ]
     },
     "metadata": {},
     "output_type": "display_data"
    }
   ],
   "source": [
    "crime_df['Domestic'].value_counts(normalize=True).plot(kind = 'bar',color = 'cornflowerblue')\n",
    "plt.title('Distribution of Domestic Incidents True/False')\n",
    "plt.xlabel('Domestic Incidents - False/True')\n",
    "plt.ylabel('% of Incidents')\n",
    "plt.show()"
   ]
  },
  {
   "cell_type": "markdown",
   "id": "a20dc316",
   "metadata": {},
   "source": [
    "## 'Domestic' Insights: \n",
    "\n",
    "- There are (6,673,298) incidents that are not 'Domestic.'\n",
    "- There are (1,069,178) incidents that are 'Domestic.'\n",
    "- Incidents that were not 'Domestic' are 86% of total incidents.\n",
    "- Incidents that were 'Domestic' are 14% of total incidents.\n",
    "- This may mean that more incidents occur outside than at home. \n",
    "- This may also mean that the Illinois Domestic Violence Act may have impact. "
   ]
  },
  {
   "cell_type": "code",
   "execution_count": 58,
   "id": "8938b9d8",
   "metadata": {},
   "outputs": [
    {
     "data": {
      "text/plain": [
       "0          False\n",
       "1          False\n",
       "2          False\n",
       "3           True\n",
       "4          False\n",
       "           ...  \n",
       "7742471    False\n",
       "7742472    False\n",
       "7742473    False\n",
       "7742474    False\n",
       "7742475    False\n",
       "Name: Arrest, Length: 7742472, dtype: bool"
      ]
     },
     "execution_count": 58,
     "metadata": {},
     "output_type": "execute_result"
    }
   ],
   "source": [
    "#Gaining information on the columnn.\n",
    "crime_df['Arrest']"
   ]
  },
  {
   "cell_type": "code",
   "execution_count": 59,
   "id": "077eb596",
   "metadata": {},
   "outputs": [
    {
     "data": {
      "text/plain": [
       "False    5713414\n",
       "True     2029058\n",
       "Name: Arrest, dtype: int64"
      ]
     },
     "execution_count": 59,
     "metadata": {},
     "output_type": "execute_result"
    }
   ],
   "source": [
    "#Gaining information on how many incidents occured that were involved an 'Arrest'\n",
    "#Incidents are either are True or False\n",
    "crime_df['Arrest'].value_counts()"
   ]
  },
  {
   "cell_type": "code",
   "execution_count": 60,
   "id": "70d44907",
   "metadata": {},
   "outputs": [
    {
     "data": {
      "text/plain": [
       "False    73.79315\n",
       "True     26.20685\n",
       "Name: Arrest, dtype: float64"
      ]
     },
     "execution_count": 60,
     "metadata": {},
     "output_type": "execute_result"
    }
   ],
   "source": [
    "crime_df['Arrest'].value_counts()/crime_df.shape[0]*100"
   ]
  },
  {
   "cell_type": "code",
   "execution_count": 61,
   "id": "e3a9c079",
   "metadata": {},
   "outputs": [
    {
     "data": {
      "image/png": "[encoded data removed]",
      "text/plain": [
       "<Figure size 640x480 with 1 Axes>"
      ]
     },
     "metadata": {},
     "output_type": "display_data"
    }
   ],
   "source": [
    "crime_df['Arrest'].value_counts(normalize=True).plot(kind = 'bar',color = 'cornflowerblue')\n",
    "plt.title('Distribution of Arrests per Incidents True/False')\n",
    "plt.xlabel('Arrest Made - False/True')\n",
    "plt.ylabel('% of Incidents')\n",
    "plt.show()"
   ]
  },
  {
   "cell_type": "markdown",
   "id": "33456dea",
   "metadata": {},
   "source": [
    "## 'Arrest' Insights: \n",
    "\n",
    "- There are (5,713,417) incidents where someone was not 'Arrested.'\n",
    "- There are (2,029,059) incidents where someone was 'Arrested.'\n",
    "- Incidents where someone was not 'Arrested' accounted for 74% of total incidents.\n",
    "- Incidents where someone was 'Arrested' accounted for 26% of total incidents.\n",
    "- There are far less arrests being made compared to the being made. \n",
    "- Question for consideration, 'How many repeat offenders are committing crimes and are not being arrested?' 'What impact does this have on communities?'"
   ]
  },
  {
   "cell_type": "code",
   "execution_count": 62,
   "id": "3c862b53",
   "metadata": {},
   "outputs": [
    {
     "data": {
      "text/plain": [
       "0                                       RESIDENCE\n",
       "1                                         CTA BUS\n",
       "2                                       RESIDENCE\n",
       "3                                        SIDEWALK\n",
       "4                                       APARTMENT\n",
       "                            ...                  \n",
       "7742471                                   unknown\n",
       "7742472                                    STREET\n",
       "7742473    PARKING LOT / GARAGE (NON RESIDENTIAL)\n",
       "7742474                                 APARTMENT\n",
       "7742475                                    STREET\n",
       "Name: Location Description, Length: 7742472, dtype: object"
      ]
     },
     "execution_count": 62,
     "metadata": {},
     "output_type": "execute_result"
    }
   ],
   "source": [
    "#Gaining information on the columnn.\n",
    "crime_df['Location Description']"
   ]
  },
  {
   "cell_type": "code",
   "execution_count": 63,
   "id": "4836887b",
   "metadata": {},
   "outputs": [
    {
     "data": {
      "text/plain": [
       "STREET                    2014880\n",
       "RESIDENCE                 1300378\n",
       "APARTMENT                  871165\n",
       "SIDEWALK                   727084\n",
       "OTHER                      270038\n",
       "                           ...   \n",
       "TRUCKING TERMINAL               1\n",
       "CTA SUBWAY STATION              1\n",
       "JUNK YARD/GARBAGE DUMP          1\n",
       "CLEANERS/LAUNDROMAT             1\n",
       "LOADING DOCK                    1\n",
       "Name: Location Description, Length: 216, dtype: int64"
      ]
     },
     "execution_count": 63,
     "metadata": {},
     "output_type": "execute_result"
    }
   ],
   "source": [
    "#Gaining information on how many incidents occured that were involved an 'Arrest'\n",
    "#Incidents are either are True or False\n",
    "crime_df['Location Description'].value_counts()"
   ]
  },
  {
   "cell_type": "code",
   "execution_count": 64,
   "id": "9a2fda01",
   "metadata": {},
   "outputs": [
    {
     "data": {
      "text/plain": [
       "STREET                            2014880\n",
       "RESIDENCE                         1300378\n",
       "APARTMENT                          871165\n",
       "SIDEWALK                           727084\n",
       "OTHER                              270038\n",
       "PARKING LOT/GARAGE(NON.RESID.)     202997\n",
       "ALLEY                              171914\n",
       "SCHOOL, PUBLIC, BUILDING           146389\n",
       "SMALL RETAIL STORE                 146052\n",
       "RESIDENCE-GARAGE                   135544\n",
       "RESTAURANT                         126380\n",
       "RESIDENCE PORCH/HALLWAY            124216\n",
       "VEHICLE NON-COMMERCIAL             123399\n",
       "GROCERY FOOD STORE                  98299\n",
       "DEPARTMENT STORE                    97993\n",
       "Name: Location Description, dtype: int64"
      ]
     },
     "execution_count": 64,
     "metadata": {},
     "output_type": "execute_result"
    }
   ],
   "source": [
    "#There are over 215 locations for this column. \n",
    "#Looking at the top 15 locations where incidents occur.\n",
    "crime_df['Location Description'].value_counts()[:15]"
   ]
  },
  {
   "cell_type": "code",
   "execution_count": 65,
   "id": "db1e9020",
   "metadata": {},
   "outputs": [
    {
     "data": {
      "image/png": "[encoded data removed]",
      "text/plain": [
       "<Figure size 640x480 with 1 Axes>"
      ]
     },
     "metadata": {},
     "output_type": "display_data"
    }
   ],
   "source": [
    "#Getting a visual representation of the column. \n",
    "#Picking the top 15 areas for visualization\n",
    "crime_df['Location Description'].value_counts()[:15].plot(kind = 'barh',color = 'cornflowerblue')\n",
    "plt.title('Distribution of Incidents by Location Description')\n",
    "plt.xlabel('Number of Incidents in Millions')\n",
    "plt.ylabel('Location Description of Incidents')\n",
    "plt.show()"
   ]
  },
  {
   "cell_type": "markdown",
   "id": "2a8063d8",
   "metadata": {},
   "source": [
    "## 'Location Description' Insights: \n",
    "\n",
    "- The top (5) 'Location Descriptions' where incidents occured:\n",
    "    \n",
    "    - Street\n",
    "    - Residence\n",
    "    - Apartment\n",
    "    - Sidewalk\n",
    "    - Other\n",
    "    \n",
    "- There are (2,014,882) incidents that occured on the street.\n",
    "- (26%) of incidents occur on the street. \n",
    "- The top (5) 'Location Descriptions' where incidents occured, accounted for 67% of the total incidents.\n",
    "- Incidents happen at home and outside the most.\n",
    "- Residence and Apartment seem similar location wise. \n",
    "- Street and Sidewalk seem similar location wise. "
   ]
  },
  {
   "cell_type": "markdown",
   "id": "731f3d79",
   "metadata": {},
   "source": [
    "## Conclusion \n",
    "\n",
    "In intial data wrangling and cleaning the following was observed: \n",
    "\n",
    "1. There weren't any duplicated data. \n",
    "2. There were null values, however, they were imputed using various imputation methods. \n",
    "\n",
    "As far as intial analyzation with the numerical data and categorical data in the dataset, it was observed that:\n",
    "\n",
    "**'Year' Insights:**\n",
    "\n",
    "- 2002 saw the highest number of incidents with (486,800).\n",
    "- 2021 saw the lowest number of incidents with (208,427).\n",
    "- There seems to be a downward trend in incidents after the year 2002.\n",
    "- Between the years (2015 - 2018), incidents hovered between (264,000) - (269,000).\n",
    "- There were (3) increases in incidents: \n",
    "\n",
    "\n",
    "    - (2001) - (2002) - saw an increase in incidents. (928) to be exact. \n",
    "    - (2015) - (2016) - saw an increase in incidents. (5,039) to be exact.\n",
    "    - (2021) - (2022) - saw an increase in incidents. (28,652) to be exact.\n",
    "\n",
    "- After 2016, incidents deacrease until the year 2022 where there is an increase.\n",
    "\n",
    "\n",
    "\n",
    "**'Ward' Insights:** \n",
    "\n",
    "- Ward 28 has the highest number of incidents with (326,987).\n",
    "- Ward 19 has the lowest number of incidents with (63,265).\n",
    "- Of the (50) wards in Chicago, only (22) have 5-digit incidents. That is 44% of the wards. \n",
    "- Ward 28 is the 'West Garfield Park' neighborhood. Located in the city's 'west side.'\n",
    "- Ward 19 is the 'Beverly'or 'Beverly Hills' neighborhood. It is located in the city's far 'south side.' \n",
    "\n",
    "\n",
    "**'Community Area' Insights:** \n",
    "\n",
    "- Community Area 25 has the highest number of incidents with (1,059,670).\n",
    "- Community Area 9 has the lowest number of incidents with (7,077).\n",
    "- The community areas with the highest incidents are areas, **25, 8, 43, 23, and 28.**\n",
    "- The community areas with the lowest incidents are areas, **55, 12, 47, and 9.**\n",
    "- Community Area 25 is the 'Austin' neighborhood. Located in the city's 'west side.'\n",
    "- Community Area 9 is the 'Edison Park' neighborhood. It is located in the city's 'north side.'\n",
    "\n",
    "\n",
    "**'Domestic' Insights:** \n",
    "\n",
    "- There are (6,673,298) incidents that are not 'Domestic.'\n",
    "- There are (1,069,178) incidents that are 'Domestic.'\n",
    "- Incidents that were not 'Domestic' are 86% of total incidents.\n",
    "- Incidents that were 'Domestic' are 14% of total incidents.\n",
    "- This may mean that more incidents occur outside than at home. \n",
    "- This may also mean that the Illinois Domestic Violence Act may have impact. \n",
    "\n",
    "\n",
    "**'Arrest' Insights:** \n",
    "\n",
    "- There are (5,713,417) incidents where someone was not 'Arrested.'\n",
    "- There are (2,029,059) incidents where someone was 'Arrested.'\n",
    "- Incidents where someone was not 'Arrested' accounted for 74% of total incidents.\n",
    "- Incidents where someone was 'Arrested' accounted for 26% of total incidents.\n",
    "- There are far less arrests being made compared to the being made. \n",
    "- Question for consideration, 'How many repeat offenders are committing crimes and are not being arrested?' 'What impact does this have on communities?'\n",
    "\n",
    "\n",
    "**'Location Description' Insights:** \n",
    "\n",
    "- The top (5) 'Location Descriptions' where incidents occured:\n",
    "    \n",
    "    - Street\n",
    "    - Residence\n",
    "    - Apartment\n",
    "    - Sidewalk\n",
    "    - Other\n",
    "    \n",
    "    \n",
    "- There are (2,014,882) incidents that occured on the street.\n",
    "- (26%) of incidents occur on the street. \n",
    "- The top (5) 'Location Descriptions' where incidents occured, accounted for 67% of the total incidents.\n",
    "- Incidents happen at home and outside the most.\n",
    "- Residence and Apartment seem to be similar location wise. \n",
    "- Street and Sidewalk seem to be similar location wise. "
   ]
  }
 ],
 "metadata": {
  "kernelspec": {
   "display_name": "Python 3 (ipykernel)",
   "language": "python",
   "name": "python3"
  },
  "language_info": {
   "codemirror_mode": {
    "name": "ipython",
    "version": 3
   },
   "file_extension": ".py",
   "mimetype": "text/x-python",
   "name": "python",
   "nbconvert_exporter": "python",
   "pygments_lexer": "ipython3",
   "version": "3.10.6"
  }
 },
 "nbformat": 4,
 "nbformat_minor": 5
}
